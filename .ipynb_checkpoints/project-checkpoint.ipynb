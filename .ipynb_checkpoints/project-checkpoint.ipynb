{
 "cells": [
  {
   "cell_type": "code",
   "execution_count": 1,
   "id": "d1df6073-703b-4b62-a797-bcedf67568ad",
   "metadata": {},
   "outputs": [],
   "source": [
    "#Imports for the project\n",
    "import e_commerce.seller.personal_info as s_info\n",
    "import e_commerce.seller.product_info as p_info\n",
    "import e_commerce.seller.seller_history as s_hist\n",
    "\n",
    "import pandas as pd\n",
    "import matplotlib.pyplot as plt"
   ]
  },
  {
   "cell_type": "code",
   "execution_count": 2,
   "id": "f78fa69a-6a29-4eaa-acfa-10058a44a43c",
   "metadata": {},
   "outputs": [
    {
     "data": {
      "text/html": [
       "<div>\n",
       "<style scoped>\n",
       "    .dataframe tbody tr th:only-of-type {\n",
       "        vertical-align: middle;\n",
       "    }\n",
       "\n",
       "    .dataframe tbody tr th {\n",
       "        vertical-align: top;\n",
       "    }\n",
       "\n",
       "    .dataframe thead th {\n",
       "        text-align: right;\n",
       "    }\n",
       "</style>\n",
       "<table border=\"1\" class=\"dataframe\">\n",
       "  <thead>\n",
       "    <tr style=\"text-align: right;\">\n",
       "      <th></th>\n",
       "      <th>Name</th>\n",
       "      <th>Email</th>\n",
       "      <th>Country</th>\n",
       "      <th>Product_Name</th>\n",
       "      <th>Product_Category</th>\n",
       "      <th>Product_Price</th>\n",
       "      <th>Quantity</th>\n",
       "    </tr>\n",
       "  </thead>\n",
       "  <tbody>\n",
       "    <tr>\n",
       "      <th>0</th>\n",
       "      <td>Dell</td>\n",
       "      <td>dell@gmail.com</td>\n",
       "      <td>Canada</td>\n",
       "      <td>Dell1</td>\n",
       "      <td>Electronics</td>\n",
       "      <td>5000</td>\n",
       "      <td>10</td>\n",
       "    </tr>\n",
       "    <tr>\n",
       "      <th>1</th>\n",
       "      <td>Apple</td>\n",
       "      <td>apple@gmail.com</td>\n",
       "      <td>America</td>\n",
       "      <td>Macbook</td>\n",
       "      <td>Electronics</td>\n",
       "      <td>25000</td>\n",
       "      <td>20</td>\n",
       "    </tr>\n",
       "    <tr>\n",
       "      <th>2</th>\n",
       "      <td>LG</td>\n",
       "      <td>lg@gmail.com</td>\n",
       "      <td>Canada</td>\n",
       "      <td>Television</td>\n",
       "      <td>Electronics</td>\n",
       "      <td>2000</td>\n",
       "      <td>12</td>\n",
       "    </tr>\n",
       "    <tr>\n",
       "      <th>3</th>\n",
       "      <td>Mark</td>\n",
       "      <td>mr@gmail.com</td>\n",
       "      <td>America</td>\n",
       "      <td>Jackets</td>\n",
       "      <td>Clothing</td>\n",
       "      <td>500</td>\n",
       "      <td>120</td>\n",
       "    </tr>\n",
       "    <tr>\n",
       "      <th>4</th>\n",
       "      <td>Haldiram</td>\n",
       "      <td>hr@gmail.com</td>\n",
       "      <td>India</td>\n",
       "      <td>Namkeen</td>\n",
       "      <td>Food</td>\n",
       "      <td>1250</td>\n",
       "      <td>520</td>\n",
       "    </tr>\n",
       "    <tr>\n",
       "      <th>5</th>\n",
       "      <td>VeroModa</td>\n",
       "      <td>vm@gmail.com</td>\n",
       "      <td>America</td>\n",
       "      <td>sweater</td>\n",
       "      <td>Clothing</td>\n",
       "      <td>5000</td>\n",
       "      <td>200</td>\n",
       "    </tr>\n",
       "  </tbody>\n",
       "</table>\n",
       "</div>"
      ],
      "text/plain": [
       "       Name            Email  Country Product_Name Product_Category  \\\n",
       "0      Dell   dell@gmail.com   Canada        Dell1      Electronics   \n",
       "1     Apple  apple@gmail.com  America      Macbook      Electronics   \n",
       "2        LG     lg@gmail.com   Canada   Television      Electronics   \n",
       "3      Mark     mr@gmail.com  America      Jackets         Clothing   \n",
       "4  Haldiram     hr@gmail.com    India      Namkeen             Food   \n",
       "5  VeroModa     vm@gmail.com  America      sweater         Clothing   \n",
       "\n",
       "  Product_Price Quantity  \n",
       "0          5000       10  \n",
       "1         25000       20  \n",
       "2          2000       12  \n",
       "3           500      120  \n",
       "4          1250      520  \n",
       "5          5000      200  "
      ]
     },
     "execution_count": 2,
     "metadata": {},
     "output_type": "execute_result"
    }
   ],
   "source": [
    "#Adding seller data\n",
    "seller=pd.DataFrame(columns=[\"Name\",\"Email\",\"Country\",\"Product_Name\",\"Product_Category\",\"Product_Price\",\"Quantity\"])\n",
    "\n",
    "seller.loc[0] = [\"Dell\", \"dell@gmail.com\", \"Canada\", \"Dell1\", \"Electronics\", 5000, 10]\n",
    "seller.loc[1] = [\"Apple\", \"apple@gmail.com\", \"America\", \"Macbook\", \"Electronics\", 25000, 20]\n",
    "seller.loc[2] = [\"LG\", \"lg@gmail.com\", \"Canada\", \"Television\", \"Electronics\", 2000, 12]\n",
    "seller.loc[3] = [\"Mark\", \"mr@gmail.com\", \"America\", \"Jackets\", \"Clothing\", 500, 120]\n",
    "seller.loc[4] = [\"Haldiram\", \"hr@gmail.com\", \"India\", \"Namkeen\", \"Food\", 1250, 520]\n",
    "seller.loc[5] = [\"VeroModa\", \"vm@gmail.com\", \"America\", \"sweater\", \"Clothing\", 5000, 200]\n",
    "seller"
   ]
  },
  {
   "cell_type": "markdown",
   "id": "1a007655-abfb-43e2-a53f-334a72182633",
   "metadata": {},
   "source": [
    "### Module 1 (personal_info) Testing\n",
    "#### Calling four functions from the module personal_info from the sub package seller"
   ]
  },
  {
   "cell_type": "code",
   "execution_count": 3,
   "id": "473b514a-f5ae-4e0b-9099-255cf32db387",
   "metadata": {},
   "outputs": [
    {
     "data": {
      "text/html": [
       "<div>\n",
       "<style scoped>\n",
       "    .dataframe tbody tr th:only-of-type {\n",
       "        vertical-align: middle;\n",
       "    }\n",
       "\n",
       "    .dataframe tbody tr th {\n",
       "        vertical-align: top;\n",
       "    }\n",
       "\n",
       "    .dataframe thead th {\n",
       "        text-align: right;\n",
       "    }\n",
       "</style>\n",
       "<table border=\"1\" class=\"dataframe\">\n",
       "  <thead>\n",
       "    <tr style=\"text-align: right;\">\n",
       "      <th></th>\n",
       "      <th>Name</th>\n",
       "      <th>Email</th>\n",
       "      <th>Country</th>\n",
       "      <th>Product_Name</th>\n",
       "      <th>Product_Category</th>\n",
       "      <th>Product_Price</th>\n",
       "      <th>Quantity</th>\n",
       "    </tr>\n",
       "  </thead>\n",
       "  <tbody>\n",
       "    <tr>\n",
       "      <th>0</th>\n",
       "      <td>Dell</td>\n",
       "      <td>dell@gmail.com</td>\n",
       "      <td>Canada</td>\n",
       "      <td>Dell1</td>\n",
       "      <td>Electronics</td>\n",
       "      <td>5000</td>\n",
       "      <td>10</td>\n",
       "    </tr>\n",
       "    <tr>\n",
       "      <th>2</th>\n",
       "      <td>LG</td>\n",
       "      <td>lg@gmail.com</td>\n",
       "      <td>Canada</td>\n",
       "      <td>Television</td>\n",
       "      <td>Electronics</td>\n",
       "      <td>2000</td>\n",
       "      <td>12</td>\n",
       "    </tr>\n",
       "  </tbody>\n",
       "</table>\n",
       "</div>"
      ],
      "text/plain": [
       "   Name           Email Country Product_Name Product_Category Product_Price  \\\n",
       "0  Dell  dell@gmail.com  Canada        Dell1      Electronics          5000   \n",
       "2    LG    lg@gmail.com  Canada   Television      Electronics          2000   \n",
       "\n",
       "  Quantity  \n",
       "0       10  \n",
       "2       12  "
      ]
     },
     "execution_count": 3,
     "metadata": {},
     "output_type": "execute_result"
    }
   ],
   "source": [
    "#Getting information using country name\n",
    "s_info.getCountry(seller,'Canada')"
   ]
  },
  {
   "cell_type": "code",
   "execution_count": 4,
   "id": "e6b1f628-fe9b-4526-ab40-47be82c2a568",
   "metadata": {},
   "outputs": [
    {
     "data": {
      "text/html": [
       "<div>\n",
       "<style scoped>\n",
       "    .dataframe tbody tr th:only-of-type {\n",
       "        vertical-align: middle;\n",
       "    }\n",
       "\n",
       "    .dataframe tbody tr th {\n",
       "        vertical-align: top;\n",
       "    }\n",
       "\n",
       "    .dataframe thead th {\n",
       "        text-align: right;\n",
       "    }\n",
       "</style>\n",
       "<table border=\"1\" class=\"dataframe\">\n",
       "  <thead>\n",
       "    <tr style=\"text-align: right;\">\n",
       "      <th></th>\n",
       "      <th>Name</th>\n",
       "      <th>Email</th>\n",
       "      <th>Country</th>\n",
       "      <th>Product_Name</th>\n",
       "      <th>Product_Category</th>\n",
       "      <th>Product_Price</th>\n",
       "      <th>Quantity</th>\n",
       "    </tr>\n",
       "  </thead>\n",
       "  <tbody>\n",
       "    <tr>\n",
       "      <th>0</th>\n",
       "      <td>Dell</td>\n",
       "      <td>dell@gmail.com</td>\n",
       "      <td>Canada</td>\n",
       "      <td>Dell1</td>\n",
       "      <td>Electronics</td>\n",
       "      <td>5000</td>\n",
       "      <td>10</td>\n",
       "    </tr>\n",
       "  </tbody>\n",
       "</table>\n",
       "</div>"
      ],
      "text/plain": [
       "   Name           Email Country Product_Name Product_Category Product_Price  \\\n",
       "0  Dell  dell@gmail.com  Canada        Dell1      Electronics          5000   \n",
       "\n",
       "  Quantity  \n",
       "0       10  "
      ]
     },
     "execution_count": 4,
     "metadata": {},
     "output_type": "execute_result"
    }
   ],
   "source": [
    "#Getting information using name\n",
    "s_info.getName(seller,'Dell')"
   ]
  },
  {
   "cell_type": "code",
   "execution_count": 5,
   "id": "9fdf63a8-1693-41c6-81f3-adde73f61ecb",
   "metadata": {},
   "outputs": [
    {
     "data": {
      "text/html": [
       "<div>\n",
       "<style scoped>\n",
       "    .dataframe tbody tr th:only-of-type {\n",
       "        vertical-align: middle;\n",
       "    }\n",
       "\n",
       "    .dataframe tbody tr th {\n",
       "        vertical-align: top;\n",
       "    }\n",
       "\n",
       "    .dataframe thead th {\n",
       "        text-align: right;\n",
       "    }\n",
       "</style>\n",
       "<table border=\"1\" class=\"dataframe\">\n",
       "  <thead>\n",
       "    <tr style=\"text-align: right;\">\n",
       "      <th></th>\n",
       "      <th>Name</th>\n",
       "      <th>Email</th>\n",
       "      <th>Country</th>\n",
       "      <th>Product_Name</th>\n",
       "      <th>Product_Category</th>\n",
       "      <th>Product_Price</th>\n",
       "      <th>Quantity</th>\n",
       "    </tr>\n",
       "  </thead>\n",
       "  <tbody>\n",
       "    <tr>\n",
       "      <th>0</th>\n",
       "      <td>Dell</td>\n",
       "      <td>dell@gmail.com</td>\n",
       "      <td>Canada</td>\n",
       "      <td>Dell1</td>\n",
       "      <td>Electronics</td>\n",
       "      <td>5000</td>\n",
       "      <td>10</td>\n",
       "    </tr>\n",
       "  </tbody>\n",
       "</table>\n",
       "</div>"
      ],
      "text/plain": [
       "   Name           Email Country Product_Name Product_Category Product_Price  \\\n",
       "0  Dell  dell@gmail.com  Canada        Dell1      Electronics          5000   \n",
       "\n",
       "  Quantity  \n",
       "0       10  "
      ]
     },
     "execution_count": 5,
     "metadata": {},
     "output_type": "execute_result"
    }
   ],
   "source": [
    "#Getting information using email\n",
    "s_info.getEmail(seller,'dell@gmail.com')"
   ]
  },
  {
   "cell_type": "code",
   "execution_count": 6,
   "id": "170a3cc5-a85a-4dbb-b36b-fbc4db273c21",
   "metadata": {},
   "outputs": [
    {
     "data": {
      "text/html": [
       "<div>\n",
       "<style scoped>\n",
       "    .dataframe tbody tr th:only-of-type {\n",
       "        vertical-align: middle;\n",
       "    }\n",
       "\n",
       "    .dataframe tbody tr th {\n",
       "        vertical-align: top;\n",
       "    }\n",
       "\n",
       "    .dataframe thead th {\n",
       "        text-align: right;\n",
       "    }\n",
       "</style>\n",
       "<table border=\"1\" class=\"dataframe\">\n",
       "  <thead>\n",
       "    <tr style=\"text-align: right;\">\n",
       "      <th></th>\n",
       "      <th>Name</th>\n",
       "      <th>Email</th>\n",
       "      <th>Country</th>\n",
       "      <th>Product_Name</th>\n",
       "      <th>Product_Category</th>\n",
       "      <th>Product_Price</th>\n",
       "      <th>Quantity</th>\n",
       "    </tr>\n",
       "  </thead>\n",
       "  <tbody>\n",
       "    <tr>\n",
       "      <th>0</th>\n",
       "      <td>Dell</td>\n",
       "      <td>dell@gmail.com</td>\n",
       "      <td>Canada</td>\n",
       "      <td>Dell1</td>\n",
       "      <td>Electronics</td>\n",
       "      <td>5000</td>\n",
       "      <td>10</td>\n",
       "    </tr>\n",
       "    <tr>\n",
       "      <th>1</th>\n",
       "      <td>Apple</td>\n",
       "      <td>apple@gmail.com</td>\n",
       "      <td>America</td>\n",
       "      <td>Macbook</td>\n",
       "      <td>Electronics</td>\n",
       "      <td>25000</td>\n",
       "      <td>20</td>\n",
       "    </tr>\n",
       "    <tr>\n",
       "      <th>2</th>\n",
       "      <td>LG</td>\n",
       "      <td>lg@gmail.com</td>\n",
       "      <td>Canada</td>\n",
       "      <td>Television</td>\n",
       "      <td>Electronics</td>\n",
       "      <td>2000</td>\n",
       "      <td>12</td>\n",
       "    </tr>\n",
       "  </tbody>\n",
       "</table>\n",
       "</div>"
      ],
      "text/plain": [
       "    Name            Email  Country Product_Name Product_Category  \\\n",
       "0   Dell   dell@gmail.com   Canada        Dell1      Electronics   \n",
       "1  Apple  apple@gmail.com  America      Macbook      Electronics   \n",
       "2     LG     lg@gmail.com   Canada   Television      Electronics   \n",
       "\n",
       "  Product_Price Quantity  \n",
       "0          5000       10  \n",
       "1         25000       20  \n",
       "2          2000       12  "
      ]
     },
     "execution_count": 6,
     "metadata": {},
     "output_type": "execute_result"
    }
   ],
   "source": [
    "#Getting information using category\n",
    "s_info.getCategory(seller,'Electronics')"
   ]
  },
  {
   "cell_type": "markdown",
   "id": "892b9bda-4d9a-4f76-b5c0-855ee1033099",
   "metadata": {},
   "source": [
    "### Module 2 (product_info) Testing\n",
    "#### Calling functions from the module product_info from the sub package seller"
   ]
  },
  {
   "cell_type": "code",
   "execution_count": 7,
   "id": "c1f7a277-b777-48bc-be5b-6ea27d0125d7",
   "metadata": {},
   "outputs": [
    {
     "data": {
      "image/png": "[encoded data removed]",
      "text/plain": [
       "<Figure size 432x288 with 1 Axes>"
      ]
     },
     "metadata": {
      "needs_background": "light"
     },
     "output_type": "display_data"
    }
   ],
   "source": [
    "#Graph between category and the corresponding categories\n",
    "p_info.showQuantity(seller)"
   ]
  },
  {
   "cell_type": "code",
   "execution_count": 8,
   "id": "f7c8301b-fc5f-4a27-a217-65168595470e",
   "metadata": {},
   "outputs": [
    {
     "data": {
      "image/png": "[encoded data removed]",
      "text/plain": [
       "<Figure size 432x288 with 1 Axes>"
      ]
     },
     "metadata": {
      "needs_background": "light"
     },
     "output_type": "display_data"
    }
   ],
   "source": [
    "#Graph between company name and the corresponding product categories\n",
    "p_info.showCategory(seller)"
   ]
  },
  {
   "cell_type": "code",
   "execution_count": 9,
   "id": "67998be0-8b4b-4df8-bfde-93a7f8676068",
   "metadata": {},
   "outputs": [
    {
     "data": {
      "image/png": "[encoded data removed]",
      "text/plain": [
       "<Figure size 432x288 with 1 Axes>"
      ]
     },
     "metadata": {
      "needs_background": "light"
     },
     "output_type": "display_data"
    }
   ],
   "source": [
    "#Graph between products and the corresponding prices\n",
    "p_info.showPrice(seller)"
   ]
  },
  {
   "cell_type": "markdown",
   "id": "2ebf18fa-de80-40ea-b5f2-abeb26c76d8f",
   "metadata": {},
   "source": [
    "### Module 3 (seller_history) Testing\n",
    "#### Calling functions from the module seller_history from the sub package seller"
   ]
  },
  {
   "cell_type": "code",
   "execution_count": 10,
   "id": "d904fbf3-a97e-4897-a8a2-a0681c60196f",
   "metadata": {},
   "outputs": [
    {
     "data": {
      "text/html": [
       "<div>\n",
       "<style scoped>\n",
       "    .dataframe tbody tr th:only-of-type {\n",
       "        vertical-align: middle;\n",
       "    }\n",
       "\n",
       "    .dataframe tbody tr th {\n",
       "        vertical-align: top;\n",
       "    }\n",
       "\n",
       "    .dataframe thead th {\n",
       "        text-align: right;\n",
       "    }\n",
       "</style>\n",
       "<table border=\"1\" class=\"dataframe\">\n",
       "  <thead>\n",
       "    <tr style=\"text-align: right;\">\n",
       "      <th></th>\n",
       "      <th>Name</th>\n",
       "      <th>Email</th>\n",
       "      <th>Country</th>\n",
       "      <th>Product_Name</th>\n",
       "      <th>Product_Category</th>\n",
       "      <th>Product_Price</th>\n",
       "      <th>Quantity</th>\n",
       "    </tr>\n",
       "  </thead>\n",
       "  <tbody>\n",
       "    <tr>\n",
       "      <th>0</th>\n",
       "      <td>Dell</td>\n",
       "      <td>dell@gmail.com</td>\n",
       "      <td>Canada</td>\n",
       "      <td>Dell1</td>\n",
       "      <td>Electronics</td>\n",
       "      <td>5000</td>\n",
       "      <td>10</td>\n",
       "    </tr>\n",
       "    <tr>\n",
       "      <th>1</th>\n",
       "      <td>Apple</td>\n",
       "      <td>apple@gmail.com</td>\n",
       "      <td>America</td>\n",
       "      <td>Macbook</td>\n",
       "      <td>Electronics</td>\n",
       "      <td>25000</td>\n",
       "      <td>20</td>\n",
       "    </tr>\n",
       "    <tr>\n",
       "      <th>2</th>\n",
       "      <td>LG</td>\n",
       "      <td>lg@gmail.com</td>\n",
       "      <td>Canada</td>\n",
       "      <td>Television</td>\n",
       "      <td>Electronics</td>\n",
       "      <td>2000</td>\n",
       "      <td>12</td>\n",
       "    </tr>\n",
       "    <tr>\n",
       "      <th>3</th>\n",
       "      <td>Mark</td>\n",
       "      <td>mr@gmail.com</td>\n",
       "      <td>America</td>\n",
       "      <td>Jackets</td>\n",
       "      <td>Clothing</td>\n",
       "      <td>500</td>\n",
       "      <td>120</td>\n",
       "    </tr>\n",
       "    <tr>\n",
       "      <th>4</th>\n",
       "      <td>Haldiram</td>\n",
       "      <td>hr@gmail.com</td>\n",
       "      <td>India</td>\n",
       "      <td>Namkeen</td>\n",
       "      <td>Food</td>\n",
       "      <td>1250</td>\n",
       "      <td>520</td>\n",
       "    </tr>\n",
       "    <tr>\n",
       "      <th>5</th>\n",
       "      <td>VeroModa</td>\n",
       "      <td>vm@gmail.com</td>\n",
       "      <td>America</td>\n",
       "      <td>sweater</td>\n",
       "      <td>Clothing</td>\n",
       "      <td>5000</td>\n",
       "      <td>200</td>\n",
       "    </tr>\n",
       "  </tbody>\n",
       "</table>\n",
       "</div>"
      ],
      "text/plain": [
       "       Name            Email  Country Product_Name Product_Category  \\\n",
       "0      Dell   dell@gmail.com   Canada        Dell1      Electronics   \n",
       "1     Apple  apple@gmail.com  America      Macbook      Electronics   \n",
       "2        LG     lg@gmail.com   Canada   Television      Electronics   \n",
       "3      Mark     mr@gmail.com  America      Jackets         Clothing   \n",
       "4  Haldiram     hr@gmail.com    India      Namkeen             Food   \n",
       "5  VeroModa     vm@gmail.com  America      sweater         Clothing   \n",
       "\n",
       "  Product_Price Quantity  \n",
       "0          5000       10  \n",
       "1         25000       20  \n",
       "2          2000       12  \n",
       "3           500      120  \n",
       "4          1250      520  \n",
       "5          5000      200  "
      ]
     },
     "execution_count": 10,
     "metadata": {},
     "output_type": "execute_result"
    }
   ],
   "source": [
    "seller"
   ]
  },
  {
   "cell_type": "code",
   "execution_count": 11,
   "id": "5018bc6b-2acb-4a06-b055-6a4d45c46bda",
   "metadata": {},
   "outputs": [
    {
     "name": "stdout",
     "output_type": "stream",
     "text": [
      "Maximum Quantities are supplied by: \n"
     ]
    },
    {
     "data": {
      "text/html": [
       "<div>\n",
       "<style scoped>\n",
       "    .dataframe tbody tr th:only-of-type {\n",
       "        vertical-align: middle;\n",
       "    }\n",
       "\n",
       "    .dataframe tbody tr th {\n",
       "        vertical-align: top;\n",
       "    }\n",
       "\n",
       "    .dataframe thead th {\n",
       "        text-align: right;\n",
       "    }\n",
       "</style>\n",
       "<table border=\"1\" class=\"dataframe\">\n",
       "  <thead>\n",
       "    <tr style=\"text-align: right;\">\n",
       "      <th></th>\n",
       "      <th>Country</th>\n",
       "    </tr>\n",
       "  </thead>\n",
       "  <tbody>\n",
       "    <tr>\n",
       "      <th>0</th>\n",
       "      <td>India</td>\n",
       "    </tr>\n",
       "  </tbody>\n",
       "</table>\n",
       "</div>"
      ],
      "text/plain": [
       "  Country\n",
       "0   India"
      ]
     },
     "execution_count": 11,
     "metadata": {},
     "output_type": "execute_result"
    }
   ],
   "source": [
    "#Fetching country with maximum supply\n",
    "supply=s_hist.Seller(seller)\n",
    "supply.max_seller()\n"
   ]
  },
  {
   "cell_type": "code",
   "execution_count": 12,
   "id": "85e793ae-12f6-4c4b-970d-4a22e38d2517",
   "metadata": {},
   "outputs": [
    {
     "data": {
      "text/html": [
       "<div>\n",
       "<style scoped>\n",
       "    .dataframe tbody tr th:only-of-type {\n",
       "        vertical-align: middle;\n",
       "    }\n",
       "\n",
       "    .dataframe tbody tr th {\n",
       "        vertical-align: top;\n",
       "    }\n",
       "\n",
       "    .dataframe thead th {\n",
       "        text-align: right;\n",
       "    }\n",
       "</style>\n",
       "<table border=\"1\" class=\"dataframe\">\n",
       "  <thead>\n",
       "    <tr style=\"text-align: right;\">\n",
       "      <th></th>\n",
       "      <th>Country</th>\n",
       "      <th>Total Quantity</th>\n",
       "    </tr>\n",
       "  </thead>\n",
       "  <tbody>\n",
       "    <tr>\n",
       "      <th>0</th>\n",
       "      <td>America</td>\n",
       "      <td>340</td>\n",
       "    </tr>\n",
       "    <tr>\n",
       "      <th>1</th>\n",
       "      <td>Canada</td>\n",
       "      <td>22</td>\n",
       "    </tr>\n",
       "    <tr>\n",
       "      <th>2</th>\n",
       "      <td>India</td>\n",
       "      <td>520</td>\n",
       "    </tr>\n",
       "  </tbody>\n",
       "</table>\n",
       "</div>"
      ],
      "text/plain": [
       "   Country Total Quantity\n",
       "0  America            340\n",
       "1   Canada             22\n",
       "2    India            520"
      ]
     },
     "execution_count": 12,
     "metadata": {},
     "output_type": "execute_result"
    }
   ],
   "source": [
    "#Total quantity Country wise\n",
    "\n",
    "quant_country=s_hist.Seller(seller)\n",
    "quant_country.total_quant()\n",
    "\n"
   ]
  },
  {
   "cell_type": "code",
   "execution_count": 13,
   "id": "4d2ae7d4-d678-4d1a-99d8-8e8f59e942cc",
   "metadata": {},
   "outputs": [
    {
     "data": {
      "text/html": [
       "<div>\n",
       "<style scoped>\n",
       "    .dataframe tbody tr th:only-of-type {\n",
       "        vertical-align: middle;\n",
       "    }\n",
       "\n",
       "    .dataframe tbody tr th {\n",
       "        vertical-align: top;\n",
       "    }\n",
       "\n",
       "    .dataframe thead th {\n",
       "        text-align: right;\n",
       "    }\n",
       "</style>\n",
       "<table border=\"1\" class=\"dataframe\">\n",
       "  <thead>\n",
       "    <tr style=\"text-align: right;\">\n",
       "      <th></th>\n",
       "      <th>Country</th>\n",
       "      <th>Total Quantity</th>\n",
       "      <th>Total Price</th>\n",
       "    </tr>\n",
       "  </thead>\n",
       "  <tbody>\n",
       "    <tr>\n",
       "      <th>0</th>\n",
       "      <td>America</td>\n",
       "      <td>340</td>\n",
       "      <td>30500</td>\n",
       "    </tr>\n",
       "    <tr>\n",
       "      <th>1</th>\n",
       "      <td>Canada</td>\n",
       "      <td>22</td>\n",
       "      <td>7000</td>\n",
       "    </tr>\n",
       "    <tr>\n",
       "      <th>2</th>\n",
       "      <td>India</td>\n",
       "      <td>520</td>\n",
       "      <td>1250</td>\n",
       "    </tr>\n",
       "  </tbody>\n",
       "</table>\n",
       "</div>"
      ],
      "text/plain": [
       "   Country Total Quantity Total Price\n",
       "0  America            340       30500\n",
       "1   Canada             22        7000\n",
       "2    India            520        1250"
      ]
     },
     "execution_count": 13,
     "metadata": {},
     "output_type": "execute_result"
    }
   ],
   "source": [
    "#Analysis of total quantity and sales\n",
    "\n",
    "sales=s_hist.Graph(seller)\n",
    "sales.analysis()"
   ]
  },
  {
   "cell_type": "code",
   "execution_count": null,
   "id": "09fcb189-e3bb-4d5b-b009-d809bfd30fbf",
   "metadata": {},
   "outputs": [],
   "source": []
  }
 ],
 "metadata": {
  "kernelspec": {
   "display_name": "Python 3",
   "language": "python",
   "name": "python3"
  },
  "language_info": {
   "codemirror_mode": {
    "name": "ipython",
    "version": 3
   },
   "file_extension": ".py",
   "mimetype": "text/x-python",
   "name": "python",
   "nbconvert_exporter": "python",
   "pygments_lexer": "ipython3",
   "version": "3.9.5"
  }
 },
 "nbformat": 4,
 "nbformat_minor": 5
}
