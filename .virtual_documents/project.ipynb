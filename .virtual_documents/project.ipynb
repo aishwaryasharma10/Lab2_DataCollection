import pandas as pd

import e_commerce.customer.orders as c_o
import e_commerce.customer.personal_info as c_pi
import e_commerce.customer.analysis as c_a


cust_data = pd.DataFrame(columns = ["Name", "Email", "Address", "Product_Name", "Product_Category", "Price", "Rating", "Date", "Brand_Name"])

cust_data.loc[0] = ["Jagdeep", "jagdeep@gmail.com", "Kelowna", "Laptop", "Electronics", 1000, 4, "12-10-2021", "Dell"]
cust_data.loc[1] = ["Aishwarya", "aish@gmail.com", "Kelowna", "Television", "Electronics", 250, 3, "10-10-2021", "LG"]
cust_data.loc[2] = ["John", "john@gmail.com", "Vancouver", "Jacket", "Clothing", 200, 5, "02-10-2021", "Mark"]
cust_data.loc[3] = ["Alex", "alex@gmail.com", "Summerland", "Namkeen", "Food", 100, 4, "11-10-2021", "Haldiram"]
cust_data.loc[4] = ["Anna", "anna@gmail.com", "Vancouver", "Jacket", "Clothing", 300, 2, "20-10-2021", "Mark"]
cust_data.loc[5] = ["Anna", "anna@gmail.com", "Vancouver", "Washer", "Electronics", 1200, 5, "21-10-2021", "LG"]
category_list = ["Electronics", "Clothing", "Food"]
cust_data


# 1. function to get the information of customer by email 

value = "anna@gmail.com"
c_pi.get_by_email(cust_data, value)


# 2. Function to get the information of customers from given city

city = "Kelowna"
c_pi.get_by_address(cust_data, city)


# 3. function to get the information of customers from given category

cat = "Electronics"
c_pi.get_by_Product_Category(cust_data, cat)


# 1. function to check the total purchasings of given customer
value = "anna@gmail.com"

result = c_o.total_purchase(cust_data, value)
result


# 2. function to calcualte total sales (price) in given category
category = "Electronics"

total = c_o.sale_by_category(cust_data, category)
print(f"Category {category} has total sales of ${total}")


# 3. function to calcualte total sales (price) of given brand
Brand_Name = "LG"

total = c_o.sale_by_brand(cust_data, Brand_Name)
print(f"Category {Brand_Name} has total sales of ${total}")


# 4. Function to count total number of customers from each city

c_o.cust_by_city(cust_data)


# 1. function to see the ctegory wise total sales

c_a.category_analysis(cust_data, category_list)


# 2. function to see brand wise total sales

c_a.brand_analysis(cust_data)


# 3. This class (parent) function calculated the rank of given brand

obj = c_a.rank_cal(cust_data)
obj.avg_rating("Mark")


# 4. This class (child) function to see avearge rank of all the brands (using class inheritence concept)

obj = c_a.rank_analysis(cust_data)
obj.ranking()
