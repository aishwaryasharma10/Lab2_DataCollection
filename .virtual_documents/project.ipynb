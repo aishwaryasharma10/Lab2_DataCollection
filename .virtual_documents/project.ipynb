import pandas as pd

import e_commerce.customer.orders as c_o
import e_commerce.customer.personal_info as c_pi
import e_commerce.customer.returns as c_ret


cust_data = pd.DataFrame(columns = ["Name", "Email", "Address", "Product_Name", "Product_Category", "Price", "Rating", "Date"])

cust_data.loc[0] = ["Jagdeep", "jagdeep@gmail.com", "Kelowna", "Laptop", "Electronics", "1000", "4", "12-10-2021"]
cust_data.loc[1] = ["Aishwarya", "aish@gmail.com", "Kelowna", "Juicer", "Electronics", "250", "3", "10-10-2021"]
cust_data.loc[2] = ["John", "john@gmail.com", "Vancouver", "Jacket", "Clothing", "200", "5", "02-10-2021"]
cust_data.loc[3] = ["Alex", "alex@gmail.com", "Summerland", "Namkeen", "Food", "100", "4", "11-10-2021"]
cust_data.loc[4] = ["Anna", "anna@gmail.com", "Vancouver", "Jacket", "Clothing", "300", "2", "20-10-2021"]
cust_data


value = "anna@gmail.com"
c_pi.get_by_email(cust_data, value)


city = "Kelowna"
c_pi.get_by_address(cust_data, city)


cat = "Electronics"
c_pi.get_by_Product_Category(cust_data, cat)
