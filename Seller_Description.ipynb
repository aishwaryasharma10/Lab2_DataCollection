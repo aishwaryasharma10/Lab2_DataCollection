{
 "cells": [
  {
   "cell_type": "markdown",
   "id": "8655d5de-3fed-46c8-993f-b1b430a59da7",
   "metadata": {},
   "source": [
    "## Function Detail for the subpackage Seller"
   ]
  },
  {
   "cell_type": "markdown",
   "id": "b83d484a-e1c6-4370-8a7a-c875bde6272f",
   "metadata": {},
   "source": [
    "We have created an E-commerce package which have a **project.ipynb** file in it. This is basically a test file which is calling our packages and executing different subpackages and corresponding functions in it.\n",
    "This file will elaborate the functionality of the subpackage seller.\n",
    "\n",
    "Seller is the subpackage that contains the information about the brands/ sellers who are uploading/ selling their products. A data frame called 'seller' is used which contains the data about the seller including the information as below:\n",
    "**\"Name\",\"Email\",\"Country\",\"Product_Name\",\"Product_Category\",\"Product_Price\",\"Quantity\"**\n",
    "\n",
    "This subpackage seller has three modules. Description of each module is as mentioned below:\n",
    "\n",
    "1. **personal_info:** This is the module which displays the information of the seller. This has four functions in it and the description of each is as follows:\n",
    "    \n",
    "    - **getName(seller):** This takes the data frame for seller data and name/ brand of the seller in it as the argument and displays the information with respect to the name.\n",
    "    - **getEmail(seller):** This takes the data frame for seller data and email of the seller in it as the argument and displays the information with respect to the email.\n",
    "     - **getCategory(seller):** This takes the data frame for seller data and category of the product in it as the argument and displays the information with respect to the category of the product.\n",
    "    - **getCountry(seller):** This takes the data frame for seller data and country of the seller in it as the argument and displays the information with respect to the country of the seller.\n",
    "    \n",
    "2. **product_info:** This is the module which graphically represents the analysis of the seller data. It has functions which displays different types of graphs and analysis could be done from them. This has three functions as follows:\n",
    "   \n",
    "      - **showQuantity(seller):** This takes data for the seller as argument and displays a bar graph as the output. The bar graph depicts the relationship between the quantity with respect to the category of the product. In other words, how many products are there in particular category is depicted by this function.\n",
    "      - **showPrice(seller):** This takes data for the seller as argument and displays a bar graph as the output. The bar graph depicts the relationship between the price with respect to the product. In other words, the price for different products are shown in this function.\n",
    "      - **showCategory(seller):** This takes data for the seller as argument and displays a scatter plot as the output. The scatter plot depicts the relationship between the product category and different companies. In other words, it shows different categories of products that different companies sell.\n",
    "      \n",
    "      \n",
    "3. **seller_history:** This module is one where inheritance is used. In this, we have created two classes. One Seller and another Graph, which inherits the Seller class. Seller class has different functions which are further used by the Graph class for analysis. This module is basically used for showing the result for the country which has supplied maximum quantity of products. Also, total price and quantity of products sold by various countries are shown using this class. The description of the functions are as mentioned below:\n",
    "\n",
    "    - **__init__:** This is used for initialization in the class.\n",
    "    \n",
    "    - **max_seller():** This takes seller data and outputs the country which has supplied maximum number of products. In other words, this function returns the country that has supplied most of the products.\n",
    "    \n",
    "    - **total_quant():** This function takes seller data and outputs the table which displays the total quantity sold by different countries. We have used group by function in order to calculate the data country wise.\n",
    "    \n",
    "    - **analysis():** This function is from the class Graph which is basically a child class and inherits the class Seller. This function analysis uses the function total_quant() from the Seller class and get the data from that which includes information on the total quantity as per country. Then this analysis function calculates the total price country wise and merges the two data using inner join. At the end a table is displayed where total price and quantity is returned with respect to each country."
   ]
  },
  {
   "cell_type": "markdown",
   "id": "4e1150a5-190e-4232-a3c6-52d97dcea599",
   "metadata": {},
   "source": [
    "## Thank You!!"
   ]
  }
 ],
 "metadata": {
  "kernelspec": {
   "display_name": "Python 3",
   "language": "python",
   "name": "python3"
  },
  "language_info": {
   "codemirror_mode": {
    "name": "ipython",
    "version": 3
   },
   "file_extension": ".py",
   "mimetype": "text/x-python",
   "name": "python",
   "nbconvert_exporter": "python",
   "pygments_lexer": "ipython3",
   "version": "3.9.5"
  }
 },
 "nbformat": 4,
 "nbformat_minor": 5
}
