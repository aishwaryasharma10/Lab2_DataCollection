{
 "cells": [
  {
   "cell_type": "code",
   "execution_count": 1,
   "id": "d1df6073-703b-4b62-a797-bcedf67568ad",
   "metadata": {},
   "outputs": [],
   "source": [
<<<<<<< HEAD
    "import pandas as pd\n",
    "\n",
    "import e_commerce.customer.orders as c_o\n",
    "import e_commerce.customer.personal_info as c_pi\n",
    "import e_commerce.customer.analysis as c_a"
   ]
  },
  {
   "cell_type": "markdown",
   "id": "6db5b2c0-e22c-43e9-a7c3-d4a7bbb16ee0",
   "metadata": {},
   "source": [
    "## Data Set of Customers"
=======
    "#Imports for the project\n",
    "import e_commerce.seller.personal_info as s_info\n",
    "import e_commerce.seller.product_info as p_info\n",
    "import e_commerce.seller.seller_history as s_hist\n",
    "\n",
    "import pandas as pd\n",
    "import matplotlib.pyplot as plt"
>>>>>>> seller
   ]
  },
  {
   "cell_type": "code",
   "execution_count": 2,
<<<<<<< HEAD
   "id": "e66db6c4-2d22-434a-8d5c-c7e5b7dac5fc",
=======
   "id": "f78fa69a-6a29-4eaa-acfa-10058a44a43c",
>>>>>>> seller
   "metadata": {},
   "outputs": [
    {
     "data": {
      "text/html": [
       "<div>\n",
       "<style scoped>\n",
       "    .dataframe tbody tr th:only-of-type {\n",
       "        vertical-align: middle;\n",
       "    }\n",
       "\n",
       "    .dataframe tbody tr th {\n",
       "        vertical-align: top;\n",
       "    }\n",
       "\n",
       "    .dataframe thead th {\n",
       "        text-align: right;\n",
       "    }\n",
       "</style>\n",
       "<table border=\"1\" class=\"dataframe\">\n",
       "  <thead>\n",
       "    <tr style=\"text-align: right;\">\n",
       "      <th></th>\n",
       "      <th>Name</th>\n",
       "      <th>Email</th>\n",
       "      <th>Address</th>\n",
       "      <th>Product_Name</th>\n",
       "      <th>Product_Category</th>\n",
       "      <th>Price</th>\n",
       "      <th>Rating</th>\n",
       "      <th>Date</th>\n",
       "      <th>Brand_Name</th>\n",
       "    </tr>\n",
       "  </thead>\n",
       "  <tbody>\n",
       "    <tr>\n",
       "      <th>0</th>\n",
       "      <td>Jagdeep</td>\n",
       "      <td>jagdeep@gmail.com</td>\n",
       "      <td>Kelowna</td>\n",
       "      <td>Laptop</td>\n",
       "      <td>Electronics</td>\n",
<<<<<<< HEAD
       "      <td>1000</td>\n",
       "      <td>4</td>\n",
       "      <td>12-10-2021</td>\n",
       "      <td>Dell</td>\n",
=======
       "      <td>5000</td>\n",
       "      <td>10</td>\n",
>>>>>>> seller
       "    </tr>\n",
       "    <tr>\n",
       "      <th>1</th>\n",
       "      <td>Aishwarya</td>\n",
       "      <td>aish@gmail.com</td>\n",
       "      <td>Kelowna</td>\n",
       "      <td>Television</td>\n",
       "      <td>Electronics</td>\n",
<<<<<<< HEAD
       "      <td>250</td>\n",
       "      <td>3</td>\n",
       "      <td>10-10-2021</td>\n",
       "      <td>LG</td>\n",
       "    </tr>\n",
       "    <tr>\n",
       "      <th>2</th>\n",
       "      <td>John</td>\n",
       "      <td>john@gmail.com</td>\n",
       "      <td>Vancouver</td>\n",
       "      <td>Jacket</td>\n",
       "      <td>Clothing</td>\n",
       "      <td>200</td>\n",
       "      <td>5</td>\n",
       "      <td>02-10-2021</td>\n",
       "      <td>Mark</td>\n",
=======
       "      <td>25000</td>\n",
       "      <td>20</td>\n",
       "    </tr>\n",
       "    <tr>\n",
       "      <th>2</th>\n",
       "      <td>LG</td>\n",
       "      <td>lg@gmail.com</td>\n",
       "      <td>Canada</td>\n",
       "      <td>Television</td>\n",
       "      <td>Electronics</td>\n",
       "      <td>2000</td>\n",
       "      <td>12</td>\n",
>>>>>>> seller
       "    </tr>\n",
       "    <tr>\n",
       "      <th>3</th>\n",
       "      <td>Alex</td>\n",
       "      <td>alex@gmail.com</td>\n",
       "      <td>Summerland</td>\n",
       "      <td>Namkeen</td>\n",
       "      <td>Food</td>\n",
       "      <td>100</td>\n",
       "      <td>4</td>\n",
       "      <td>11-10-2021</td>\n",
       "      <td>Haldiram</td>\n",
       "    </tr>\n",
       "    <tr>\n",
       "      <th>4</th>\n",
<<<<<<< HEAD
       "      <td>Anna</td>\n",
       "      <td>anna@gmail.com</td>\n",
       "      <td>Vancouver</td>\n",
       "      <td>Jacket</td>\n",
       "      <td>Clothing</td>\n",
       "      <td>300</td>\n",
       "      <td>2</td>\n",
       "      <td>20-10-2021</td>\n",
       "      <td>Mark</td>\n",
=======
       "      <td>Haldiram</td>\n",
       "      <td>hr@gmail.com</td>\n",
       "      <td>India</td>\n",
       "      <td>Namkeen</td>\n",
       "      <td>Food</td>\n",
       "      <td>1250</td>\n",
       "      <td>520</td>\n",
>>>>>>> seller
       "    </tr>\n",
       "    <tr>\n",
       "      <th>5</th>\n",
       "      <td>Anna</td>\n",
       "      <td>anna@gmail.com</td>\n",
       "      <td>Vancouver</td>\n",
       "      <td>Washer</td>\n",
       "      <td>Electronics</td>\n",
       "      <td>1200</td>\n",
       "      <td>5</td>\n",
       "      <td>21-10-2021</td>\n",
       "      <td>LG</td>\n",
       "    </tr>\n",
       "  </tbody>\n",
       "</table>\n",
       "</div>"
      ],
      "text/plain": [
       "        Name              Email     Address Product_Name Product_Category  \\\n",
       "0    Jagdeep  jagdeep@gmail.com     Kelowna       Laptop      Electronics   \n",
       "1  Aishwarya     aish@gmail.com     Kelowna   Television      Electronics   \n",
       "2       John     john@gmail.com   Vancouver       Jacket         Clothing   \n",
       "3       Alex     alex@gmail.com  Summerland      Namkeen             Food   \n",
       "4       Anna     anna@gmail.com   Vancouver       Jacket         Clothing   \n",
       "5       Anna     anna@gmail.com   Vancouver       Washer      Electronics   \n",
       "\n",
       "  Price Rating        Date Brand_Name  \n",
       "0  1000      4  12-10-2021       Dell  \n",
       "1   250      3  10-10-2021         LG  \n",
       "2   200      5  02-10-2021       Mark  \n",
       "3   100      4  11-10-2021   Haldiram  \n",
       "4   300      2  20-10-2021       Mark  \n",
       "5  1200      5  21-10-2021         LG  "
      ]
     },
     "execution_count": 2,
     "metadata": {},
     "output_type": "execute_result"
    }
   ],
   "source": [
    "cust_data = pd.DataFrame(columns = [\"Name\", \"Email\", \"Address\", \"Product_Name\", \"Product_Category\", \"Price\", \"Rating\", \"Date\", \"Brand_Name\"])\n",
    "\n",
    "cust_data.loc[0] = [\"Jagdeep\", \"jagdeep@gmail.com\", \"Kelowna\", \"Laptop\", \"Electronics\", 1000, 4, \"12-10-2021\", \"Dell\"]\n",
    "cust_data.loc[1] = [\"Aishwarya\", \"aish@gmail.com\", \"Kelowna\", \"Television\", \"Electronics\", 250, 3, \"10-10-2021\", \"LG\"]\n",
    "cust_data.loc[2] = [\"John\", \"john@gmail.com\", \"Vancouver\", \"Jacket\", \"Clothing\", 200, 5, \"02-10-2021\", \"Mark\"]\n",
    "cust_data.loc[3] = [\"Alex\", \"alex@gmail.com\", \"Summerland\", \"Namkeen\", \"Food\", 100, 4, \"11-10-2021\", \"Haldiram\"]\n",
    "cust_data.loc[4] = [\"Anna\", \"anna@gmail.com\", \"Vancouver\", \"Jacket\", \"Clothing\", 300, 2, \"20-10-2021\", \"Mark\"]\n",
    "cust_data.loc[5] = [\"Anna\", \"anna@gmail.com\", \"Vancouver\", \"Washer\", \"Electronics\", 1200, 5, \"21-10-2021\", \"LG\"]\n",
    "category_list = [\"Electronics\", \"Clothing\", \"Food\"]\n",
    "cust_data"
   ]
  },
  {
   "cell_type": "markdown",
   "id": "434ba109-0b4a-4e43-9d53-8770430503b9",
   "metadata": {},
   "source": [
    "## Testing of Module 1 - personal_info form subpackage customer "
   ]
  },
  {
   "cell_type": "code",
   "execution_count": 3,
   "id": "d958b3f6-e1ce-4c02-b466-e545b2e273bf",
   "metadata": {},
   "outputs": [
    {
     "data": {
      "text/html": [
       "<div>\n",
       "<style scoped>\n",
       "    .dataframe tbody tr th:only-of-type {\n",
       "        vertical-align: middle;\n",
       "    }\n",
       "\n",
       "    .dataframe tbody tr th {\n",
       "        vertical-align: top;\n",
       "    }\n",
       "\n",
       "    .dataframe thead th {\n",
       "        text-align: right;\n",
       "    }\n",
       "</style>\n",
       "<table border=\"1\" class=\"dataframe\">\n",
       "  <thead>\n",
       "    <tr style=\"text-align: right;\">\n",
       "      <th></th>\n",
       "      <th>Name</th>\n",
       "      <th>Email</th>\n",
       "      <th>Address</th>\n",
       "      <th>Product_Name</th>\n",
       "      <th>Product_Category</th>\n",
       "      <th>Price</th>\n",
       "      <th>Rating</th>\n",
       "      <th>Date</th>\n",
       "      <th>Brand_Name</th>\n",
       "    </tr>\n",
       "  </thead>\n",
       "  <tbody>\n",
       "    <tr>\n",
       "      <th>4</th>\n",
       "      <td>Anna</td>\n",
       "      <td>anna@gmail.com</td>\n",
       "      <td>Vancouver</td>\n",
       "      <td>Jacket</td>\n",
       "      <td>Clothing</td>\n",
<<<<<<< HEAD
       "      <td>300</td>\n",
       "      <td>2</td>\n",
       "      <td>20-10-2021</td>\n",
       "      <td>Mark</td>\n",
       "    </tr>\n",
       "    <tr>\n",
       "      <th>5</th>\n",
       "      <td>Anna</td>\n",
       "      <td>anna@gmail.com</td>\n",
       "      <td>Vancouver</td>\n",
       "      <td>Washer</td>\n",
       "      <td>Electronics</td>\n",
       "      <td>1200</td>\n",
       "      <td>5</td>\n",
       "      <td>21-10-2021</td>\n",
       "      <td>LG</td>\n",
=======
       "      <td>5000</td>\n",
       "      <td>200</td>\n",
>>>>>>> seller
       "    </tr>\n",
       "  </tbody>\n",
       "</table>\n",
       "</div>"
      ],
      "text/plain": [
<<<<<<< HEAD
       "   Name           Email    Address Product_Name Product_Category Price Rating  \\\n",
       "4  Anna  anna@gmail.com  Vancouver       Jacket         Clothing   300      2   \n",
       "5  Anna  anna@gmail.com  Vancouver       Washer      Electronics  1200      5   \n",
       "\n",
       "         Date Brand_Name  \n",
       "4  20-10-2021       Mark  \n",
       "5  21-10-2021         LG  "
      ]
     },
     "execution_count": 3,
=======
       "       Name            Email  Country Product_Name Product_Category  \\\n",
       "0      Dell   dell@gmail.com   Canada        Dell1      Electronics   \n",
       "1     Apple  apple@gmail.com  America      Macbook      Electronics   \n",
       "2        LG     lg@gmail.com   Canada   Television      Electronics   \n",
       "3      Mark     mr@gmail.com  America      Jackets         Clothing   \n",
       "4  Haldiram     hr@gmail.com    India      Namkeen             Food   \n",
       "5  VeroModa     vm@gmail.com  America      sweater         Clothing   \n",
       "\n",
       "  Product_Price Quantity  \n",
       "0          5000       10  \n",
       "1         25000       20  \n",
       "2          2000       12  \n",
       "3           500      120  \n",
       "4          1250      520  \n",
       "5          5000      200  "
      ]
     },
     "execution_count": 2,
>>>>>>> seller
     "metadata": {},
     "output_type": "execute_result"
    }
   ],
   "source": [
<<<<<<< HEAD
    "# 1. function to get the information of customer by email \n",
    "\n",
    "value = \"anna@gmail.com\"\n",
    "c_pi.get_by_email(cust_data, value)"
   ]
  },
  {
   "cell_type": "code",
   "execution_count": 4,
   "id": "e84fbadd-fb35-4a44-818f-fe94cecc6777",
   "metadata": {},
   "outputs": [
    {
     "data": {
      "text/html": [
       "<div>\n",
       "<style scoped>\n",
       "    .dataframe tbody tr th:only-of-type {\n",
       "        vertical-align: middle;\n",
       "    }\n",
       "\n",
       "    .dataframe tbody tr th {\n",
       "        vertical-align: top;\n",
       "    }\n",
       "\n",
       "    .dataframe thead th {\n",
       "        text-align: right;\n",
       "    }\n",
       "</style>\n",
       "<table border=\"1\" class=\"dataframe\">\n",
       "  <thead>\n",
       "    <tr style=\"text-align: right;\">\n",
       "      <th></th>\n",
       "      <th>Name</th>\n",
       "      <th>Email</th>\n",
       "      <th>Address</th>\n",
       "      <th>Product_Name</th>\n",
       "      <th>Product_Category</th>\n",
       "      <th>Price</th>\n",
       "      <th>Rating</th>\n",
       "      <th>Date</th>\n",
       "      <th>Brand_Name</th>\n",
       "    </tr>\n",
       "  </thead>\n",
       "  <tbody>\n",
       "    <tr>\n",
       "      <th>0</th>\n",
       "      <td>Jagdeep</td>\n",
       "      <td>jagdeep@gmail.com</td>\n",
       "      <td>Kelowna</td>\n",
       "      <td>Laptop</td>\n",
       "      <td>Electronics</td>\n",
       "      <td>1000</td>\n",
       "      <td>4</td>\n",
       "      <td>12-10-2021</td>\n",
       "      <td>Dell</td>\n",
       "    </tr>\n",
       "    <tr>\n",
       "      <th>1</th>\n",
       "      <td>Aishwarya</td>\n",
       "      <td>aish@gmail.com</td>\n",
       "      <td>Kelowna</td>\n",
       "      <td>Television</td>\n",
       "      <td>Electronics</td>\n",
       "      <td>250</td>\n",
       "      <td>3</td>\n",
       "      <td>10-10-2021</td>\n",
       "      <td>LG</td>\n",
       "    </tr>\n",
       "  </tbody>\n",
       "</table>\n",
       "</div>"
      ],
      "text/plain": [
       "        Name              Email  Address Product_Name Product_Category Price  \\\n",
       "0    Jagdeep  jagdeep@gmail.com  Kelowna       Laptop      Electronics  1000   \n",
       "1  Aishwarya     aish@gmail.com  Kelowna   Television      Electronics   250   \n",
       "\n",
       "  Rating        Date Brand_Name  \n",
       "0      4  12-10-2021       Dell  \n",
       "1      3  10-10-2021         LG  "
      ]
     },
     "execution_count": 4,
     "metadata": {},
     "output_type": "execute_result"
    }
   ],
   "source": [
    "# 2. Function to get the information of customers from given city\n",
    "\n",
    "city = \"Kelowna\"\n",
    "c_pi.get_by_address(cust_data, city)"
   ]
  },
  {
   "cell_type": "code",
   "execution_count": 5,
   "id": "1aaf745b-14c3-489c-9751-2610559d9799",
   "metadata": {},
   "outputs": [
    {
     "data": {
      "text/html": [
       "<div>\n",
       "<style scoped>\n",
       "    .dataframe tbody tr th:only-of-type {\n",
       "        vertical-align: middle;\n",
       "    }\n",
       "\n",
       "    .dataframe tbody tr th {\n",
       "        vertical-align: top;\n",
       "    }\n",
       "\n",
       "    .dataframe thead th {\n",
       "        text-align: right;\n",
       "    }\n",
       "</style>\n",
       "<table border=\"1\" class=\"dataframe\">\n",
       "  <thead>\n",
       "    <tr style=\"text-align: right;\">\n",
       "      <th></th>\n",
       "      <th>Name</th>\n",
       "      <th>Email</th>\n",
       "      <th>Address</th>\n",
       "      <th>Product_Name</th>\n",
       "      <th>Product_Category</th>\n",
       "      <th>Price</th>\n",
       "      <th>Rating</th>\n",
       "      <th>Date</th>\n",
       "      <th>Brand_Name</th>\n",
       "    </tr>\n",
       "  </thead>\n",
       "  <tbody>\n",
       "    <tr>\n",
       "      <th>0</th>\n",
       "      <td>Jagdeep</td>\n",
       "      <td>jagdeep@gmail.com</td>\n",
       "      <td>Kelowna</td>\n",
       "      <td>Laptop</td>\n",
       "      <td>Electronics</td>\n",
       "      <td>1000</td>\n",
       "      <td>4</td>\n",
       "      <td>12-10-2021</td>\n",
       "      <td>Dell</td>\n",
       "    </tr>\n",
       "    <tr>\n",
       "      <th>1</th>\n",
       "      <td>Aishwarya</td>\n",
       "      <td>aish@gmail.com</td>\n",
       "      <td>Kelowna</td>\n",
       "      <td>Television</td>\n",
       "      <td>Electronics</td>\n",
       "      <td>250</td>\n",
       "      <td>3</td>\n",
       "      <td>10-10-2021</td>\n",
       "      <td>LG</td>\n",
       "    </tr>\n",
       "    <tr>\n",
       "      <th>5</th>\n",
       "      <td>Anna</td>\n",
       "      <td>anna@gmail.com</td>\n",
       "      <td>Vancouver</td>\n",
       "      <td>Washer</td>\n",
       "      <td>Electronics</td>\n",
       "      <td>1200</td>\n",
       "      <td>5</td>\n",
       "      <td>21-10-2021</td>\n",
       "      <td>LG</td>\n",
       "    </tr>\n",
       "  </tbody>\n",
       "</table>\n",
       "</div>"
      ],
      "text/plain": [
       "        Name              Email    Address Product_Name Product_Category  \\\n",
       "0    Jagdeep  jagdeep@gmail.com    Kelowna       Laptop      Electronics   \n",
       "1  Aishwarya     aish@gmail.com    Kelowna   Television      Electronics   \n",
       "5       Anna     anna@gmail.com  Vancouver       Washer      Electronics   \n",
       "\n",
       "  Price Rating        Date Brand_Name  \n",
       "0  1000      4  12-10-2021       Dell  \n",
       "1   250      3  10-10-2021         LG  \n",
       "5  1200      5  21-10-2021         LG  "
      ]
     },
     "execution_count": 5,
     "metadata": {},
     "output_type": "execute_result"
    }
   ],
   "source": [
    "# 3. function to get the information of customers from given category\n",
    "\n",
    "cat = \"Electronics\"\n",
    "c_pi.get_by_Product_Category(cust_data, cat)"
=======
    "#Adding seller data\n",
    "seller=pd.DataFrame(columns=[\"Name\",\"Email\",\"Country\",\"Product_Name\",\"Product_Category\",\"Product_Price\",\"Quantity\"])\n",
    "\n",
    "seller.loc[0] = [\"Dell\", \"dell@gmail.com\", \"Canada\", \"Dell1\", \"Electronics\", 5000, 10]\n",
    "seller.loc[1] = [\"Apple\", \"apple@gmail.com\", \"America\", \"Macbook\", \"Electronics\", 25000, 20]\n",
    "seller.loc[2] = [\"LG\", \"lg@gmail.com\", \"Canada\", \"Television\", \"Electronics\", 2000, 12]\n",
    "seller.loc[3] = [\"Mark\", \"mr@gmail.com\", \"America\", \"Jackets\", \"Clothing\", 500, 120]\n",
    "seller.loc[4] = [\"Haldiram\", \"hr@gmail.com\", \"India\", \"Namkeen\", \"Food\", 1250, 520]\n",
    "seller.loc[5] = [\"VeroModa\", \"vm@gmail.com\", \"America\", \"sweater\", \"Clothing\", 5000, 200]\n",
    "seller"
>>>>>>> seller
   ]
  },
  {
   "cell_type": "markdown",
<<<<<<< HEAD
   "id": "ec9402a6-2ae9-4cc1-b1e1-4a3ecd5ab4f6",
   "metadata": {},
   "source": [
    "## Testing of Module 2 - orders from subpackage customer"
=======
   "id": "1a007655-abfb-43e2-a53f-334a72182633",
   "metadata": {},
   "source": [
    "### Module 1 (personal_info) Testing\n",
    "#### Calling four functions from the module personal_info from the sub package seller"
   ]
  },
  {
   "cell_type": "code",
   "execution_count": 3,
   "id": "473b514a-f5ae-4e0b-9099-255cf32db387",
   "metadata": {},
   "outputs": [
    {
     "data": {
      "text/html": [
       "<div>\n",
       "<style scoped>\n",
       "    .dataframe tbody tr th:only-of-type {\n",
       "        vertical-align: middle;\n",
       "    }\n",
       "\n",
       "    .dataframe tbody tr th {\n",
       "        vertical-align: top;\n",
       "    }\n",
       "\n",
       "    .dataframe thead th {\n",
       "        text-align: right;\n",
       "    }\n",
       "</style>\n",
       "<table border=\"1\" class=\"dataframe\">\n",
       "  <thead>\n",
       "    <tr style=\"text-align: right;\">\n",
       "      <th></th>\n",
       "      <th>Name</th>\n",
       "      <th>Email</th>\n",
       "      <th>Country</th>\n",
       "      <th>Product_Name</th>\n",
       "      <th>Product_Category</th>\n",
       "      <th>Product_Price</th>\n",
       "      <th>Quantity</th>\n",
       "    </tr>\n",
       "  </thead>\n",
       "  <tbody>\n",
       "    <tr>\n",
       "      <th>0</th>\n",
       "      <td>Dell</td>\n",
       "      <td>dell@gmail.com</td>\n",
       "      <td>Canada</td>\n",
       "      <td>Dell1</td>\n",
       "      <td>Electronics</td>\n",
       "      <td>5000</td>\n",
       "      <td>10</td>\n",
       "    </tr>\n",
       "    <tr>\n",
       "      <th>2</th>\n",
       "      <td>LG</td>\n",
       "      <td>lg@gmail.com</td>\n",
       "      <td>Canada</td>\n",
       "      <td>Television</td>\n",
       "      <td>Electronics</td>\n",
       "      <td>2000</td>\n",
       "      <td>12</td>\n",
       "    </tr>\n",
       "  </tbody>\n",
       "</table>\n",
       "</div>"
      ],
      "text/plain": [
       "   Name           Email Country Product_Name Product_Category Product_Price  \\\n",
       "0  Dell  dell@gmail.com  Canada        Dell1      Electronics          5000   \n",
       "2    LG    lg@gmail.com  Canada   Television      Electronics          2000   \n",
       "\n",
       "  Quantity  \n",
       "0       10  \n",
       "2       12  "
      ]
     },
     "execution_count": 3,
     "metadata": {},
     "output_type": "execute_result"
    }
   ],
   "source": [
    "#Getting information using country name\n",
    "s_info.getCountry(seller,'Canada')"
   ]
  },
  {
   "cell_type": "code",
   "execution_count": 4,
   "id": "e6b1f628-fe9b-4526-ab40-47be82c2a568",
   "metadata": {},
   "outputs": [
    {
     "data": {
      "text/html": [
       "<div>\n",
       "<style scoped>\n",
       "    .dataframe tbody tr th:only-of-type {\n",
       "        vertical-align: middle;\n",
       "    }\n",
       "\n",
       "    .dataframe tbody tr th {\n",
       "        vertical-align: top;\n",
       "    }\n",
       "\n",
       "    .dataframe thead th {\n",
       "        text-align: right;\n",
       "    }\n",
       "</style>\n",
       "<table border=\"1\" class=\"dataframe\">\n",
       "  <thead>\n",
       "    <tr style=\"text-align: right;\">\n",
       "      <th></th>\n",
       "      <th>Name</th>\n",
       "      <th>Email</th>\n",
       "      <th>Country</th>\n",
       "      <th>Product_Name</th>\n",
       "      <th>Product_Category</th>\n",
       "      <th>Product_Price</th>\n",
       "      <th>Quantity</th>\n",
       "    </tr>\n",
       "  </thead>\n",
       "  <tbody>\n",
       "    <tr>\n",
       "      <th>0</th>\n",
       "      <td>Dell</td>\n",
       "      <td>dell@gmail.com</td>\n",
       "      <td>Canada</td>\n",
       "      <td>Dell1</td>\n",
       "      <td>Electronics</td>\n",
       "      <td>5000</td>\n",
       "      <td>10</td>\n",
       "    </tr>\n",
       "  </tbody>\n",
       "</table>\n",
       "</div>"
      ],
      "text/plain": [
       "   Name           Email Country Product_Name Product_Category Product_Price  \\\n",
       "0  Dell  dell@gmail.com  Canada        Dell1      Electronics          5000   \n",
       "\n",
       "  Quantity  \n",
       "0       10  "
      ]
     },
     "execution_count": 4,
     "metadata": {},
     "output_type": "execute_result"
    }
   ],
   "source": [
    "#Getting information using name\n",
    "s_info.getName(seller,'Dell')"
   ]
  },
  {
   "cell_type": "code",
   "execution_count": 5,
   "id": "9fdf63a8-1693-41c6-81f3-adde73f61ecb",
   "metadata": {},
   "outputs": [
    {
     "data": {
      "text/html": [
       "<div>\n",
       "<style scoped>\n",
       "    .dataframe tbody tr th:only-of-type {\n",
       "        vertical-align: middle;\n",
       "    }\n",
       "\n",
       "    .dataframe tbody tr th {\n",
       "        vertical-align: top;\n",
       "    }\n",
       "\n",
       "    .dataframe thead th {\n",
       "        text-align: right;\n",
       "    }\n",
       "</style>\n",
       "<table border=\"1\" class=\"dataframe\">\n",
       "  <thead>\n",
       "    <tr style=\"text-align: right;\">\n",
       "      <th></th>\n",
       "      <th>Name</th>\n",
       "      <th>Email</th>\n",
       "      <th>Country</th>\n",
       "      <th>Product_Name</th>\n",
       "      <th>Product_Category</th>\n",
       "      <th>Product_Price</th>\n",
       "      <th>Quantity</th>\n",
       "    </tr>\n",
       "  </thead>\n",
       "  <tbody>\n",
       "    <tr>\n",
       "      <th>0</th>\n",
       "      <td>Dell</td>\n",
       "      <td>dell@gmail.com</td>\n",
       "      <td>Canada</td>\n",
       "      <td>Dell1</td>\n",
       "      <td>Electronics</td>\n",
       "      <td>5000</td>\n",
       "      <td>10</td>\n",
       "    </tr>\n",
       "  </tbody>\n",
       "</table>\n",
       "</div>"
      ],
      "text/plain": [
       "   Name           Email Country Product_Name Product_Category Product_Price  \\\n",
       "0  Dell  dell@gmail.com  Canada        Dell1      Electronics          5000   \n",
       "\n",
       "  Quantity  \n",
       "0       10  "
      ]
     },
     "execution_count": 5,
     "metadata": {},
     "output_type": "execute_result"
    }
   ],
   "source": [
    "#Getting information using email\n",
    "s_info.getEmail(seller,'dell@gmail.com')"
   ]
  },
  {
   "cell_type": "code",
   "execution_count": 6,
   "id": "170a3cc5-a85a-4dbb-b36b-fbc4db273c21",
   "metadata": {},
   "outputs": [
    {
     "data": {
      "text/html": [
       "<div>\n",
       "<style scoped>\n",
       "    .dataframe tbody tr th:only-of-type {\n",
       "        vertical-align: middle;\n",
       "    }\n",
       "\n",
       "    .dataframe tbody tr th {\n",
       "        vertical-align: top;\n",
       "    }\n",
       "\n",
       "    .dataframe thead th {\n",
       "        text-align: right;\n",
       "    }\n",
       "</style>\n",
       "<table border=\"1\" class=\"dataframe\">\n",
       "  <thead>\n",
       "    <tr style=\"text-align: right;\">\n",
       "      <th></th>\n",
       "      <th>Name</th>\n",
       "      <th>Email</th>\n",
       "      <th>Country</th>\n",
       "      <th>Product_Name</th>\n",
       "      <th>Product_Category</th>\n",
       "      <th>Product_Price</th>\n",
       "      <th>Quantity</th>\n",
       "    </tr>\n",
       "  </thead>\n",
       "  <tbody>\n",
       "    <tr>\n",
       "      <th>0</th>\n",
       "      <td>Dell</td>\n",
       "      <td>dell@gmail.com</td>\n",
       "      <td>Canada</td>\n",
       "      <td>Dell1</td>\n",
       "      <td>Electronics</td>\n",
       "      <td>5000</td>\n",
       "      <td>10</td>\n",
       "    </tr>\n",
       "    <tr>\n",
       "      <th>1</th>\n",
       "      <td>Apple</td>\n",
       "      <td>apple@gmail.com</td>\n",
       "      <td>America</td>\n",
       "      <td>Macbook</td>\n",
       "      <td>Electronics</td>\n",
       "      <td>25000</td>\n",
       "      <td>20</td>\n",
       "    </tr>\n",
       "    <tr>\n",
       "      <th>2</th>\n",
       "      <td>LG</td>\n",
       "      <td>lg@gmail.com</td>\n",
       "      <td>Canada</td>\n",
       "      <td>Television</td>\n",
       "      <td>Electronics</td>\n",
       "      <td>2000</td>\n",
       "      <td>12</td>\n",
       "    </tr>\n",
       "  </tbody>\n",
       "</table>\n",
       "</div>"
      ],
      "text/plain": [
       "    Name            Email  Country Product_Name Product_Category  \\\n",
       "0   Dell   dell@gmail.com   Canada        Dell1      Electronics   \n",
       "1  Apple  apple@gmail.com  America      Macbook      Electronics   \n",
       "2     LG     lg@gmail.com   Canada   Television      Electronics   \n",
       "\n",
       "  Product_Price Quantity  \n",
       "0          5000       10  \n",
       "1         25000       20  \n",
       "2          2000       12  "
      ]
     },
     "execution_count": 6,
     "metadata": {},
     "output_type": "execute_result"
    }
   ],
   "source": [
    "#Getting information using category\n",
    "s_info.getCategory(seller,'Electronics')"
   ]
  },
  {
   "cell_type": "markdown",
   "id": "892b9bda-4d9a-4f76-b5c0-855ee1033099",
   "metadata": {},
   "source": [
    "### Module 2 (product_info) Testing\n",
    "#### Calling functions from the module product_info from the sub package seller"
   ]
  },
  {
   "cell_type": "code",
   "execution_count": 7,
   "id": "c1f7a277-b777-48bc-be5b-6ea27d0125d7",
   "metadata": {},
   "outputs": [
    {
     "data": {
      "image/png": "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\n",
      "text/plain": [
       "<Figure size 432x288 with 1 Axes>"
      ]
     },
     "metadata": {
      "needs_background": "light"
     },
     "output_type": "display_data"
    }
   ],
   "source": [
    "#Graph between category and the corresponding categories\n",
    "p_info.showQuantity(seller)"
   ]
  },
  {
   "cell_type": "code",
   "execution_count": 8,
   "id": "f7c8301b-fc5f-4a27-a217-65168595470e",
   "metadata": {},
   "outputs": [
    {
     "data": {
      "image/png": "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\n",
      "text/plain": [
       "<Figure size 432x288 with 1 Axes>"
      ]
     },
     "metadata": {
      "needs_background": "light"
     },
     "output_type": "display_data"
    }
   ],
   "source": [
    "#Graph between company name and the corresponding product categories\n",
    "p_info.showCategory(seller)"
   ]
  },
  {
   "cell_type": "code",
   "execution_count": 9,
   "id": "67998be0-8b4b-4df8-bfde-93a7f8676068",
   "metadata": {},
   "outputs": [
    {
     "data": {
      "image/png": "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\n",
      "text/plain": [
       "<Figure size 432x288 with 1 Axes>"
      ]
     },
     "metadata": {
      "needs_background": "light"
     },
     "output_type": "display_data"
    }
   ],
   "source": [
    "#Graph between products and the corresponding prices\n",
    "p_info.showPrice(seller)"
   ]
  },
  {
   "cell_type": "markdown",
   "id": "2ebf18fa-de80-40ea-b5f2-abeb26c76d8f",
   "metadata": {},
   "source": [
    "### Module 3 (seller_history) Testing\n",
    "#### Calling functions from the module seller_history from the sub package seller"
   ]
  },
  {
   "cell_type": "code",
   "execution_count": 10,
   "id": "d904fbf3-a97e-4897-a8a2-a0681c60196f",
   "metadata": {},
   "outputs": [
    {
     "data": {
      "text/html": [
       "<div>\n",
       "<style scoped>\n",
       "    .dataframe tbody tr th:only-of-type {\n",
       "        vertical-align: middle;\n",
       "    }\n",
       "\n",
       "    .dataframe tbody tr th {\n",
       "        vertical-align: top;\n",
       "    }\n",
       "\n",
       "    .dataframe thead th {\n",
       "        text-align: right;\n",
       "    }\n",
       "</style>\n",
       "<table border=\"1\" class=\"dataframe\">\n",
       "  <thead>\n",
       "    <tr style=\"text-align: right;\">\n",
       "      <th></th>\n",
       "      <th>Name</th>\n",
       "      <th>Email</th>\n",
       "      <th>Country</th>\n",
       "      <th>Product_Name</th>\n",
       "      <th>Product_Category</th>\n",
       "      <th>Product_Price</th>\n",
       "      <th>Quantity</th>\n",
       "    </tr>\n",
       "  </thead>\n",
       "  <tbody>\n",
       "    <tr>\n",
       "      <th>0</th>\n",
       "      <td>Dell</td>\n",
       "      <td>dell@gmail.com</td>\n",
       "      <td>Canada</td>\n",
       "      <td>Dell1</td>\n",
       "      <td>Electronics</td>\n",
       "      <td>5000</td>\n",
       "      <td>10</td>\n",
       "    </tr>\n",
       "    <tr>\n",
       "      <th>1</th>\n",
       "      <td>Apple</td>\n",
       "      <td>apple@gmail.com</td>\n",
       "      <td>America</td>\n",
       "      <td>Macbook</td>\n",
       "      <td>Electronics</td>\n",
       "      <td>25000</td>\n",
       "      <td>20</td>\n",
       "    </tr>\n",
       "    <tr>\n",
       "      <th>2</th>\n",
       "      <td>LG</td>\n",
       "      <td>lg@gmail.com</td>\n",
       "      <td>Canada</td>\n",
       "      <td>Television</td>\n",
       "      <td>Electronics</td>\n",
       "      <td>2000</td>\n",
       "      <td>12</td>\n",
       "    </tr>\n",
       "    <tr>\n",
       "      <th>3</th>\n",
       "      <td>Mark</td>\n",
       "      <td>mr@gmail.com</td>\n",
       "      <td>America</td>\n",
       "      <td>Jackets</td>\n",
       "      <td>Clothing</td>\n",
       "      <td>500</td>\n",
       "      <td>120</td>\n",
       "    </tr>\n",
       "    <tr>\n",
       "      <th>4</th>\n",
       "      <td>Haldiram</td>\n",
       "      <td>hr@gmail.com</td>\n",
       "      <td>India</td>\n",
       "      <td>Namkeen</td>\n",
       "      <td>Food</td>\n",
       "      <td>1250</td>\n",
       "      <td>520</td>\n",
       "    </tr>\n",
       "    <tr>\n",
       "      <th>5</th>\n",
       "      <td>VeroModa</td>\n",
       "      <td>vm@gmail.com</td>\n",
       "      <td>America</td>\n",
       "      <td>sweater</td>\n",
       "      <td>Clothing</td>\n",
       "      <td>5000</td>\n",
       "      <td>200</td>\n",
       "    </tr>\n",
       "  </tbody>\n",
       "</table>\n",
       "</div>"
      ],
      "text/plain": [
       "       Name            Email  Country Product_Name Product_Category  \\\n",
       "0      Dell   dell@gmail.com   Canada        Dell1      Electronics   \n",
       "1     Apple  apple@gmail.com  America      Macbook      Electronics   \n",
       "2        LG     lg@gmail.com   Canada   Television      Electronics   \n",
       "3      Mark     mr@gmail.com  America      Jackets         Clothing   \n",
       "4  Haldiram     hr@gmail.com    India      Namkeen             Food   \n",
       "5  VeroModa     vm@gmail.com  America      sweater         Clothing   \n",
       "\n",
       "  Product_Price Quantity  \n",
       "0          5000       10  \n",
       "1         25000       20  \n",
       "2          2000       12  \n",
       "3           500      120  \n",
       "4          1250      520  \n",
       "5          5000      200  "
      ]
     },
     "execution_count": 10,
     "metadata": {},
     "output_type": "execute_result"
    }
   ],
   "source": [
    "seller"
   ]
  },
  {
   "cell_type": "code",
   "execution_count": 11,
   "id": "5018bc6b-2acb-4a06-b055-6a4d45c46bda",
   "metadata": {},
   "outputs": [
    {
     "name": "stdout",
     "output_type": "stream",
     "text": [
      "Maximum Quantities are supplied by: \n"
     ]
    },
    {
     "data": {
      "text/html": [
       "<div>\n",
       "<style scoped>\n",
       "    .dataframe tbody tr th:only-of-type {\n",
       "        vertical-align: middle;\n",
       "    }\n",
       "\n",
       "    .dataframe tbody tr th {\n",
       "        vertical-align: top;\n",
       "    }\n",
       "\n",
       "    .dataframe thead th {\n",
       "        text-align: right;\n",
       "    }\n",
       "</style>\n",
       "<table border=\"1\" class=\"dataframe\">\n",
       "  <thead>\n",
       "    <tr style=\"text-align: right;\">\n",
       "      <th></th>\n",
       "      <th>Country</th>\n",
       "    </tr>\n",
       "  </thead>\n",
       "  <tbody>\n",
       "    <tr>\n",
       "      <th>0</th>\n",
       "      <td>India</td>\n",
       "    </tr>\n",
       "  </tbody>\n",
       "</table>\n",
       "</div>"
      ],
      "text/plain": [
       "  Country\n",
       "0   India"
      ]
     },
     "execution_count": 11,
     "metadata": {},
     "output_type": "execute_result"
    }
   ],
   "source": [
    "#Fetching country with maximum supply\n",
    "supply=s_hist.Seller(seller)\n",
    "supply.max_seller()\n"
   ]
  },
  {
   "cell_type": "code",
   "execution_count": 12,
   "id": "85e793ae-12f6-4c4b-970d-4a22e38d2517",
   "metadata": {},
   "outputs": [
    {
     "data": {
      "text/html": [
       "<div>\n",
       "<style scoped>\n",
       "    .dataframe tbody tr th:only-of-type {\n",
       "        vertical-align: middle;\n",
       "    }\n",
       "\n",
       "    .dataframe tbody tr th {\n",
       "        vertical-align: top;\n",
       "    }\n",
       "\n",
       "    .dataframe thead th {\n",
       "        text-align: right;\n",
       "    }\n",
       "</style>\n",
       "<table border=\"1\" class=\"dataframe\">\n",
       "  <thead>\n",
       "    <tr style=\"text-align: right;\">\n",
       "      <th></th>\n",
       "      <th>Country</th>\n",
       "      <th>Total Quantity</th>\n",
       "    </tr>\n",
       "  </thead>\n",
       "  <tbody>\n",
       "    <tr>\n",
       "      <th>0</th>\n",
       "      <td>America</td>\n",
       "      <td>340</td>\n",
       "    </tr>\n",
       "    <tr>\n",
       "      <th>1</th>\n",
       "      <td>Canada</td>\n",
       "      <td>22</td>\n",
       "    </tr>\n",
       "    <tr>\n",
       "      <th>2</th>\n",
       "      <td>India</td>\n",
       "      <td>520</td>\n",
       "    </tr>\n",
       "  </tbody>\n",
       "</table>\n",
       "</div>"
      ],
      "text/plain": [
       "   Country Total Quantity\n",
       "0  America            340\n",
       "1   Canada             22\n",
       "2    India            520"
      ]
     },
     "execution_count": 12,
     "metadata": {},
     "output_type": "execute_result"
    }
   ],
   "source": [
    "#Total quantity Country wise\n",
    "\n",
    "quant_country=s_hist.Seller(seller)\n",
    "quant_country.total_quant()\n",
    "\n"
   ]
  },
  {
   "cell_type": "code",
   "execution_count": 13,
   "id": "4d2ae7d4-d678-4d1a-99d8-8e8f59e942cc",
   "metadata": {},
   "outputs": [
    {
     "data": {
      "text/html": [
       "<div>\n",
       "<style scoped>\n",
       "    .dataframe tbody tr th:only-of-type {\n",
       "        vertical-align: middle;\n",
       "    }\n",
       "\n",
       "    .dataframe tbody tr th {\n",
       "        vertical-align: top;\n",
       "    }\n",
       "\n",
       "    .dataframe thead th {\n",
       "        text-align: right;\n",
       "    }\n",
       "</style>\n",
       "<table border=\"1\" class=\"dataframe\">\n",
       "  <thead>\n",
       "    <tr style=\"text-align: right;\">\n",
       "      <th></th>\n",
       "      <th>Country</th>\n",
       "      <th>Total Quantity</th>\n",
       "      <th>Total Price</th>\n",
       "    </tr>\n",
       "  </thead>\n",
       "  <tbody>\n",
       "    <tr>\n",
       "      <th>0</th>\n",
       "      <td>America</td>\n",
       "      <td>340</td>\n",
       "      <td>30500</td>\n",
       "    </tr>\n",
       "    <tr>\n",
       "      <th>1</th>\n",
       "      <td>Canada</td>\n",
       "      <td>22</td>\n",
       "      <td>7000</td>\n",
       "    </tr>\n",
       "    <tr>\n",
       "      <th>2</th>\n",
       "      <td>India</td>\n",
       "      <td>520</td>\n",
       "      <td>1250</td>\n",
       "    </tr>\n",
       "  </tbody>\n",
       "</table>\n",
       "</div>"
      ],
      "text/plain": [
       "   Country Total Quantity Total Price\n",
       "0  America            340       30500\n",
       "1   Canada             22        7000\n",
       "2    India            520        1250"
      ]
     },
     "execution_count": 13,
     "metadata": {},
     "output_type": "execute_result"
    }
   ],
   "source": [
    "#Analysis of total quantity and sales\n",
    "\n",
    "sales=s_hist.Graph(seller)\n",
    "sales.analysis()"
>>>>>>> seller
   ]
  },
  {
   "cell_type": "code",
<<<<<<< HEAD
   "execution_count": 6,
   "id": "3ab0aaed-4b79-4311-8932-1c6a9bcbdc44",
=======
   "execution_count": null,
   "id": "09fcb189-e3bb-4d5b-b009-d809bfd30fbf",
>>>>>>> seller
   "metadata": {},
   "outputs": [
    {
     "data": {
      "text/html": [
       "<div>\n",
       "<style scoped>\n",
       "    .dataframe tbody tr th:only-of-type {\n",
       "        vertical-align: middle;\n",
       "    }\n",
       "\n",
       "    .dataframe tbody tr th {\n",
       "        vertical-align: top;\n",
       "    }\n",
       "\n",
       "    .dataframe thead th {\n",
       "        text-align: right;\n",
       "    }\n",
       "</style>\n",
       "<table border=\"1\" class=\"dataframe\">\n",
       "  <thead>\n",
       "    <tr style=\"text-align: right;\">\n",
       "      <th></th>\n",
       "      <th>Name</th>\n",
       "      <th>Total_purchasings</th>\n",
       "    </tr>\n",
       "  </thead>\n",
       "  <tbody>\n",
       "    <tr>\n",
       "      <th>0</th>\n",
       "      <td>Anna</td>\n",
       "      <td>1500</td>\n",
       "    </tr>\n",
       "  </tbody>\n",
       "</table>\n",
       "</div>"
      ],
      "text/plain": [
       "   Name  Total_purchasings\n",
       "0  Anna               1500"
      ]
     },
     "execution_count": 6,
     "metadata": {},
     "output_type": "execute_result"
    }
   ],
   "source": [
    "# 1. function to check the total purchasings of given customer\n",
    "value = \"anna@gmail.com\"\n",
    "\n",
    "result = c_o.total_purchase(cust_data, value)\n",
    "result"
   ]
  },
  {
   "cell_type": "code",
   "execution_count": 7,
   "id": "8fdb5c99-cb72-477e-b8c8-d448b1dd9a62",
   "metadata": {},
   "outputs": [
    {
     "name": "stdout",
     "output_type": "stream",
     "text": [
      "Category Electronics has total sales of $2450\n"
     ]
    }
   ],
   "source": [
    "# 2. function to calcualte total sales (price) in given category\n",
    "category = \"Electronics\"\n",
    "\n",
    "total = c_o.sale_by_category(cust_data, category)\n",
    "print(f\"Category {category} has total sales of ${total}\")"
   ]
  },
  {
   "cell_type": "code",
   "execution_count": 8,
   "id": "fdf9a79a-b3ad-4cf3-b6cc-7524fac4fa61",
   "metadata": {},
   "outputs": [
    {
     "name": "stdout",
     "output_type": "stream",
     "text": [
      "Category LG has total sales of $1450\n"
     ]
    }
   ],
   "source": [
    "# 3. function to calcualte total sales (price) of given brand\n",
    "Brand_Name = \"LG\"\n",
    "\n",
    "total = c_o.sale_by_brand(cust_data, Brand_Name)\n",
    "print(f\"Category {Brand_Name} has total sales of ${total}\")"
   ]
  },
  {
   "cell_type": "code",
   "execution_count": 9,
   "id": "020aca69-e118-42c5-8a36-5011b8667782",
   "metadata": {},
   "outputs": [
    {
     "data": {
      "text/html": [
       "<div>\n",
       "<style scoped>\n",
       "    .dataframe tbody tr th:only-of-type {\n",
       "        vertical-align: middle;\n",
       "    }\n",
       "\n",
       "    .dataframe tbody tr th {\n",
       "        vertical-align: top;\n",
       "    }\n",
       "\n",
       "    .dataframe thead th {\n",
       "        text-align: right;\n",
       "    }\n",
       "</style>\n",
       "<table border=\"1\" class=\"dataframe\">\n",
       "  <thead>\n",
       "    <tr style=\"text-align: right;\">\n",
       "      <th></th>\n",
       "      <th>City</th>\n",
       "      <th>Number_of_Customers</th>\n",
       "    </tr>\n",
       "  </thead>\n",
       "  <tbody>\n",
       "    <tr>\n",
       "      <th>0</th>\n",
       "      <td>Kelowna</td>\n",
       "      <td>2</td>\n",
       "    </tr>\n",
       "    <tr>\n",
       "      <th>1</th>\n",
       "      <td>Summerland</td>\n",
       "      <td>1</td>\n",
       "    </tr>\n",
       "    <tr>\n",
       "      <th>2</th>\n",
       "      <td>Vancouver</td>\n",
       "      <td>2</td>\n",
       "    </tr>\n",
       "  </tbody>\n",
       "</table>\n",
       "</div>"
      ],
      "text/plain": [
       "         City  Number_of_Customers\n",
       "0     Kelowna                    2\n",
       "1  Summerland                    1\n",
       "2   Vancouver                    2"
      ]
     },
     "execution_count": 9,
     "metadata": {},
     "output_type": "execute_result"
    }
   ],
   "source": [
    "# 4. Function to count total number of customers from each city\n",
    "\n",
    "c_o.cust_by_city(cust_data)"
   ]
  },
  {
   "cell_type": "markdown",
   "id": "58d0fa75-2225-45c2-902e-763d3c479603",
   "metadata": {},
   "source": [
    "## Testing of Module 3 - analysis from subpackage customers"
   ]
  },
  {
   "cell_type": "code",
   "execution_count": 10,
   "id": "d7476b24-37ae-4813-be46-e86c27ea29d3",
   "metadata": {},
   "outputs": [
    {
     "data": {
      "image/png": "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\n",
      "text/plain": [
       "<Figure size 432x288 with 1 Axes>"
      ]
     },
     "metadata": {
      "needs_background": "light"
     },
     "output_type": "display_data"
    }
   ],
   "source": [
    "# 1. function to see the ctegory wise total sales\n",
    "\n",
    "c_a.category_analysis(cust_data, category_list)"
   ]
  },
  {
   "cell_type": "code",
   "execution_count": 11,
   "id": "231d9472-f577-4073-b7a5-85d84386f2c7",
   "metadata": {},
   "outputs": [
    {
     "data": {
      "image/png": "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\n",
      "text/plain": [
       "<Figure size 432x288 with 1 Axes>"
      ]
     },
     "metadata": {
      "needs_background": "light"
     },
     "output_type": "display_data"
    }
   ],
   "source": [
    "# 2. function to see brand wise total sales\n",
    "\n",
    "c_a.brand_analysis(cust_data)"
   ]
  },
  {
   "cell_type": "code",
   "execution_count": 13,
   "id": "3e3982bf-8f18-4413-bb28-cd701497a2d0",
   "metadata": {},
   "outputs": [
    {
     "data": {
      "text/plain": [
       "3.5"
      ]
     },
     "execution_count": 13,
     "metadata": {},
     "output_type": "execute_result"
    }
   ],
   "source": [
    "# 3. This class (parent) function calculated the rank of given brand\n",
    "\n",
    "obj = c_a.rank_cal(cust_data)\n",
    "obj.avg_rating(\"Mark\")"
   ]
  },
  {
   "cell_type": "code",
   "execution_count": 14,
   "id": "53236231-24ed-495d-8eb5-17732142da1a",
   "metadata": {},
   "outputs": [
    {
     "data": {
      "image/png": "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\n",
      "text/plain": [
       "<Figure size 432x288 with 1 Axes>"
      ]
     },
     "metadata": {
      "needs_background": "light"
     },
     "output_type": "display_data"
    }
   ],
   "source": [
    "# 4. This class (child) function to see avearge rank of all the brands (using class inheritence concept)\n",
    "\n",
    "obj = c_a.rank_analysis(cust_data)\n",
    "obj.ranking()"
   ]
  }
 ],
 "metadata": {
  "kernelspec": {
   "display_name": "Python 3 (ipykernel)",
   "language": "python",
   "name": "python3"
  },
  "language_info": {
   "codemirror_mode": {
    "name": "ipython",
    "version": 3
   },
   "file_extension": ".py",
   "mimetype": "text/x-python",
   "name": "python",
   "nbconvert_exporter": "python",
   "pygments_lexer": "ipython3",
   "version": "3.9.5"
  }
 },
 "nbformat": 4,
 "nbformat_minor": 5
}
