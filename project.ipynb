{
 "cells": [
  {
   "cell_type": "code",
   "execution_count": 1,
   "id": "d1df6073-703b-4b62-a797-bcedf67568ad",
   "metadata": {},
   "outputs": [],
   "source": [
    "import pandas as pd\n",
    "\n",
    "import e_commerce.customer.orders as c_o\n",
    "import e_commerce.customer.personal_info as c_pi\n",
    "import e_commerce.customer.returns as c_ret"
   ]
  },
  {
   "cell_type": "code",
   "execution_count": 2,
   "id": "e66db6c4-2d22-434a-8d5c-c7e5b7dac5fc",
   "metadata": {},
   "outputs": [
    {
     "data": {
      "text/html": [
       "<div>\n",
       "<style scoped>\n",
       "    .dataframe tbody tr th:only-of-type {\n",
       "        vertical-align: middle;\n",
       "    }\n",
       "\n",
       "    .dataframe tbody tr th {\n",
       "        vertical-align: top;\n",
       "    }\n",
       "\n",
       "    .dataframe thead th {\n",
       "        text-align: right;\n",
       "    }\n",
       "</style>\n",
       "<table border=\"1\" class=\"dataframe\">\n",
       "  <thead>\n",
       "    <tr style=\"text-align: right;\">\n",
       "      <th></th>\n",
       "      <th>Name</th>\n",
       "      <th>Email</th>\n",
       "      <th>Address</th>\n",
       "      <th>Product_Name</th>\n",
       "      <th>Product_Category</th>\n",
       "      <th>Price</th>\n",
       "      <th>Rating</th>\n",
       "      <th>Date</th>\n",
       "    </tr>\n",
       "  </thead>\n",
       "  <tbody>\n",
       "    <tr>\n",
       "      <th>0</th>\n",
       "      <td>Jagdeep</td>\n",
       "      <td>jagdeep@gmail.com</td>\n",
       "      <td>Kelowna</td>\n",
       "      <td>Laptop</td>\n",
       "      <td>Electronics</td>\n",
       "      <td>1000</td>\n",
       "      <td>4</td>\n",
       "      <td>12-10-2021</td>\n",
       "    </tr>\n",
       "    <tr>\n",
       "      <th>1</th>\n",
       "      <td>Aishwarya</td>\n",
       "      <td>aish@gmail.com</td>\n",
       "      <td>Kelowna</td>\n",
       "      <td>Juicer</td>\n",
       "      <td>Electronics</td>\n",
       "      <td>250</td>\n",
       "      <td>3</td>\n",
       "      <td>10-10-2021</td>\n",
       "    </tr>\n",
       "    <tr>\n",
       "      <th>2</th>\n",
       "      <td>John</td>\n",
       "      <td>john@gmail.com</td>\n",
       "      <td>Vancouver</td>\n",
       "      <td>Jacket</td>\n",
       "      <td>Clothing</td>\n",
       "      <td>200</td>\n",
       "      <td>5</td>\n",
       "      <td>02-10-2021</td>\n",
       "    </tr>\n",
       "    <tr>\n",
       "      <th>3</th>\n",
       "      <td>Alex</td>\n",
       "      <td>alex@gmail.com</td>\n",
       "      <td>Summerland</td>\n",
       "      <td>Namkeen</td>\n",
       "      <td>Food</td>\n",
       "      <td>100</td>\n",
       "      <td>4</td>\n",
       "      <td>11-10-2021</td>\n",
       "    </tr>\n",
       "    <tr>\n",
       "      <th>4</th>\n",
       "      <td>Anna</td>\n",
       "      <td>anna@gmail.com</td>\n",
       "      <td>Vancouver</td>\n",
       "      <td>Jacket</td>\n",
       "      <td>Clothing</td>\n",
       "      <td>300</td>\n",
       "      <td>2</td>\n",
       "      <td>20-10-2021</td>\n",
       "    </tr>\n",
       "    <tr>\n",
       "      <th>5</th>\n",
       "      <td>Anna</td>\n",
       "      <td>anna@gmail.com</td>\n",
       "      <td>Vancouver</td>\n",
       "      <td>Washer</td>\n",
       "      <td>Electronics</td>\n",
       "      <td>1200</td>\n",
       "      <td>5</td>\n",
       "      <td>21-10-2021</td>\n",
       "    </tr>\n",
       "  </tbody>\n",
       "</table>\n",
       "</div>"
      ],
      "text/plain": [
       "        Name              Email     Address Product_Name Product_Category  \\\n",
       "0    Jagdeep  jagdeep@gmail.com     Kelowna       Laptop      Electronics   \n",
       "1  Aishwarya     aish@gmail.com     Kelowna       Juicer      Electronics   \n",
       "2       John     john@gmail.com   Vancouver       Jacket         Clothing   \n",
       "3       Alex     alex@gmail.com  Summerland      Namkeen             Food   \n",
       "4       Anna     anna@gmail.com   Vancouver       Jacket         Clothing   \n",
       "5       Anna     anna@gmail.com   Vancouver       Washer      Electronics   \n",
       "\n",
       "  Price Rating        Date  \n",
       "0  1000      4  12-10-2021  \n",
       "1   250      3  10-10-2021  \n",
       "2   200      5  02-10-2021  \n",
       "3   100      4  11-10-2021  \n",
       "4   300      2  20-10-2021  \n",
       "5  1200      5  21-10-2021  "
      ]
     },
     "execution_count": 2,
     "metadata": {},
     "output_type": "execute_result"
    }
   ],
   "source": [
    "cust_data = pd.DataFrame(columns = [\"Name\", \"Email\", \"Address\", \"Product_Name\", \"Product_Category\", \"Price\", \"Rating\", \"Date\"])\n",
    "\n",
    "cust_data.loc[0] = [\"Jagdeep\", \"jagdeep@gmail.com\", \"Kelowna\", \"Laptop\", \"Electronics\", 1000, 4, \"12-10-2021\"]\n",
    "cust_data.loc[1] = [\"Aishwarya\", \"aish@gmail.com\", \"Kelowna\", \"Juicer\", \"Electronics\", 250, 3, \"10-10-2021\"]\n",
    "cust_data.loc[2] = [\"John\", \"john@gmail.com\", \"Vancouver\", \"Jacket\", \"Clothing\", 200, 5, \"02-10-2021\"]\n",
    "cust_data.loc[3] = [\"Alex\", \"alex@gmail.com\", \"Summerland\", \"Namkeen\", \"Food\", 100, 4, \"11-10-2021\"]\n",
    "cust_data.loc[4] = [\"Anna\", \"anna@gmail.com\", \"Vancouver\", \"Jacket\", \"Clothing\", 300, 2, \"20-10-2021\"]\n",
    "cust_data.loc[5] = [\"Anna\", \"anna@gmail.com\", \"Vancouver\", \"Washer\", \"Electronics\", 1200, 5, \"21-10-2021\"]\n",
    "category_list = [\"Electronics\", \"Clothing\", \"Food\"]\n",
    "cust_data"
   ]
  },
  {
   "cell_type": "code",
   "execution_count": 3,
   "id": "d958b3f6-e1ce-4c02-b466-e545b2e273bf",
   "metadata": {},
   "outputs": [
    {
     "data": {
      "text/html": [
       "<div>\n",
       "<style scoped>\n",
       "    .dataframe tbody tr th:only-of-type {\n",
       "        vertical-align: middle;\n",
       "    }\n",
       "\n",
       "    .dataframe tbody tr th {\n",
       "        vertical-align: top;\n",
       "    }\n",
       "\n",
       "    .dataframe thead th {\n",
       "        text-align: right;\n",
       "    }\n",
       "</style>\n",
       "<table border=\"1\" class=\"dataframe\">\n",
       "  <thead>\n",
       "    <tr style=\"text-align: right;\">\n",
       "      <th></th>\n",
       "      <th>Name</th>\n",
       "      <th>Email</th>\n",
       "      <th>Address</th>\n",
       "      <th>Product_Name</th>\n",
       "      <th>Product_Category</th>\n",
       "      <th>Price</th>\n",
       "      <th>Rating</th>\n",
       "      <th>Date</th>\n",
       "    </tr>\n",
       "  </thead>\n",
       "  <tbody>\n",
       "    <tr>\n",
       "      <th>4</th>\n",
       "      <td>Anna</td>\n",
       "      <td>anna@gmail.com</td>\n",
       "      <td>Vancouver</td>\n",
       "      <td>Jacket</td>\n",
       "      <td>Clothing</td>\n",
       "      <td>300</td>\n",
       "      <td>2</td>\n",
       "      <td>20-10-2021</td>\n",
       "    </tr>\n",
       "    <tr>\n",
       "      <th>5</th>\n",
       "      <td>Anna</td>\n",
       "      <td>anna@gmail.com</td>\n",
       "      <td>Vancouver</td>\n",
       "      <td>Washer</td>\n",
       "      <td>Electronics</td>\n",
       "      <td>1200</td>\n",
       "      <td>5</td>\n",
       "      <td>21-10-2021</td>\n",
       "    </tr>\n",
       "  </tbody>\n",
       "</table>\n",
       "</div>"
      ],
      "text/plain": [
       "   Name           Email    Address Product_Name Product_Category Price Rating  \\\n",
       "4  Anna  anna@gmail.com  Vancouver       Jacket         Clothing   300      2   \n",
       "5  Anna  anna@gmail.com  Vancouver       Washer      Electronics  1200      5   \n",
       "\n",
       "         Date  \n",
       "4  20-10-2021  \n",
       "5  21-10-2021  "
      ]
     },
     "execution_count": 3,
     "metadata": {},
     "output_type": "execute_result"
    }
   ],
   "source": [
    "value = \"anna@gmail.com\"\n",
    "c_pi.get_by_email(cust_data, value)"
   ]
  },
  {
   "cell_type": "code",
   "execution_count": 4,
   "id": "e84fbadd-fb35-4a44-818f-fe94cecc6777",
   "metadata": {},
   "outputs": [
    {
     "data": {
      "text/html": [
       "<div>\n",
       "<style scoped>\n",
       "    .dataframe tbody tr th:only-of-type {\n",
       "        vertical-align: middle;\n",
       "    }\n",
       "\n",
       "    .dataframe tbody tr th {\n",
       "        vertical-align: top;\n",
       "    }\n",
       "\n",
       "    .dataframe thead th {\n",
       "        text-align: right;\n",
       "    }\n",
       "</style>\n",
       "<table border=\"1\" class=\"dataframe\">\n",
       "  <thead>\n",
       "    <tr style=\"text-align: right;\">\n",
       "      <th></th>\n",
       "      <th>Name</th>\n",
       "      <th>Email</th>\n",
       "      <th>Address</th>\n",
       "      <th>Product_Name</th>\n",
       "      <th>Product_Category</th>\n",
       "      <th>Price</th>\n",
       "      <th>Rating</th>\n",
       "      <th>Date</th>\n",
       "    </tr>\n",
       "  </thead>\n",
       "  <tbody>\n",
       "    <tr>\n",
       "      <th>0</th>\n",
       "      <td>Jagdeep</td>\n",
       "      <td>jagdeep@gmail.com</td>\n",
       "      <td>Kelowna</td>\n",
       "      <td>Laptop</td>\n",
       "      <td>Electronics</td>\n",
       "      <td>1000</td>\n",
       "      <td>4</td>\n",
       "      <td>12-10-2021</td>\n",
       "    </tr>\n",
       "    <tr>\n",
       "      <th>1</th>\n",
       "      <td>Aishwarya</td>\n",
       "      <td>aish@gmail.com</td>\n",
       "      <td>Kelowna</td>\n",
       "      <td>Juicer</td>\n",
       "      <td>Electronics</td>\n",
       "      <td>250</td>\n",
       "      <td>3</td>\n",
       "      <td>10-10-2021</td>\n",
       "    </tr>\n",
       "  </tbody>\n",
       "</table>\n",
       "</div>"
      ],
      "text/plain": [
       "        Name              Email  Address Product_Name Product_Category Price  \\\n",
       "0    Jagdeep  jagdeep@gmail.com  Kelowna       Laptop      Electronics  1000   \n",
       "1  Aishwarya     aish@gmail.com  Kelowna       Juicer      Electronics   250   \n",
       "\n",
       "  Rating        Date  \n",
       "0      4  12-10-2021  \n",
       "1      3  10-10-2021  "
      ]
     },
     "execution_count": 4,
     "metadata": {},
     "output_type": "execute_result"
    }
   ],
   "source": [
    "city = \"Kelowna\"\n",
    "c_pi.get_by_address(cust_data, city)"
   ]
  },
  {
   "cell_type": "code",
   "execution_count": 5,
   "id": "1aaf745b-14c3-489c-9751-2610559d9799",
   "metadata": {},
   "outputs": [
    {
     "data": {
      "text/html": [
       "<div>\n",
       "<style scoped>\n",
       "    .dataframe tbody tr th:only-of-type {\n",
       "        vertical-align: middle;\n",
       "    }\n",
       "\n",
       "    .dataframe tbody tr th {\n",
       "        vertical-align: top;\n",
       "    }\n",
       "\n",
       "    .dataframe thead th {\n",
       "        text-align: right;\n",
       "    }\n",
       "</style>\n",
       "<table border=\"1\" class=\"dataframe\">\n",
       "  <thead>\n",
       "    <tr style=\"text-align: right;\">\n",
       "      <th></th>\n",
       "      <th>Name</th>\n",
       "      <th>Email</th>\n",
       "      <th>Address</th>\n",
       "      <th>Product_Name</th>\n",
       "      <th>Product_Category</th>\n",
       "      <th>Price</th>\n",
       "      <th>Rating</th>\n",
       "      <th>Date</th>\n",
       "    </tr>\n",
       "  </thead>\n",
       "  <tbody>\n",
       "    <tr>\n",
       "      <th>0</th>\n",
       "      <td>Jagdeep</td>\n",
       "      <td>jagdeep@gmail.com</td>\n",
       "      <td>Kelowna</td>\n",
       "      <td>Laptop</td>\n",
       "      <td>Electronics</td>\n",
       "      <td>1000</td>\n",
       "      <td>4</td>\n",
       "      <td>12-10-2021</td>\n",
       "    </tr>\n",
       "    <tr>\n",
       "      <th>1</th>\n",
       "      <td>Aishwarya</td>\n",
       "      <td>aish@gmail.com</td>\n",
       "      <td>Kelowna</td>\n",
       "      <td>Juicer</td>\n",
       "      <td>Electronics</td>\n",
       "      <td>250</td>\n",
       "      <td>3</td>\n",
       "      <td>10-10-2021</td>\n",
       "    </tr>\n",
       "    <tr>\n",
       "      <th>5</th>\n",
       "      <td>Anna</td>\n",
       "      <td>anna@gmail.com</td>\n",
       "      <td>Vancouver</td>\n",
       "      <td>Washer</td>\n",
       "      <td>Electronics</td>\n",
       "      <td>1200</td>\n",
       "      <td>5</td>\n",
       "      <td>21-10-2021</td>\n",
       "    </tr>\n",
       "  </tbody>\n",
       "</table>\n",
       "</div>"
      ],
      "text/plain": [
       "        Name              Email    Address Product_Name Product_Category  \\\n",
       "0    Jagdeep  jagdeep@gmail.com    Kelowna       Laptop      Electronics   \n",
       "1  Aishwarya     aish@gmail.com    Kelowna       Juicer      Electronics   \n",
       "5       Anna     anna@gmail.com  Vancouver       Washer      Electronics   \n",
       "\n",
       "  Price Rating        Date  \n",
       "0  1000      4  12-10-2021  \n",
       "1   250      3  10-10-2021  \n",
       "5  1200      5  21-10-2021  "
      ]
     },
     "execution_count": 5,
     "metadata": {},
     "output_type": "execute_result"
    }
   ],
   "source": [
    "cat = \"Electronics\"\n",
    "c_pi.get_by_Product_Category(cust_data, cat)"
   ]
  },
  {
   "cell_type": "markdown",
   "id": "ec9402a6-2ae9-4cc1-b1e1-4a3ecd5ab4f6",
   "metadata": {},
   "source": [
    "## Testing of module orders"
   ]
  },
  {
   "cell_type": "code",
   "execution_count": 6,
   "id": "3ab0aaed-4b79-4311-8932-1c6a9bcbdc44",
   "metadata": {},
   "outputs": [
    {
     "name": "stdout",
     "output_type": "stream",
     "text": [
      "Customer    Name\n",
      "4  Anna has total purchsings of $1500\n"
     ]
    }
   ],
   "source": [
    "# function to check the total purchasings of customer\n",
    "value = \"anna@gmail.com\"\n",
    "total = c_o.total_purchase(cust_data, value)\n",
    "print(f\"Customer {cust_data[cust_data['Email'] == value][['Name']].head(1)} has total purchsings of ${total}\")"
   ]
  },
  {
   "cell_type": "code",
   "execution_count": 7,
   "id": "8fdb5c99-cb72-477e-b8c8-d448b1dd9a62",
   "metadata": {},
   "outputs": [
    {
     "name": "stdout",
     "output_type": "stream",
     "text": [
      "Category   Product_Category\n",
      "4         Clothing has total purchsings of $2450\n"
     ]
    }
   ],
   "source": [
    "# category wise sales\n",
    "category = \"Electronics\"\n",
    "\n",
    "total = c_o.sale_by_category(cust_data, category)\n",
    "print(f\"Category {cust_data[cust_data['Email'] == value][['Product_Category']].head(1)} has total purchsings of ${total}\")"
   ]
  },
  {
   "cell_type": "code",
   "execution_count": 8,
   "id": "fdf9a79a-b3ad-4cf3-b6cc-7524fac4fa61",
   "metadata": {},
   "outputs": [
    {
     "data": {
      "image/png": "[encoded data removed]",
      "text/plain": [
       "<Figure size 432x288 with 1 Axes>"
      ]
     },
     "metadata": {
      "needs_background": "light"
     },
     "output_type": "display_data"
    }
   ],
   "source": [
    "# Ctegory wise sale - Graphical representation\n",
    "\n",
    "c_o.category_analysis(cust_data, category_list)"
   ]
  }
 ],
 "metadata": {
  "kernelspec": {
   "display_name": "Python 3 (ipykernel)",
   "language": "python",
   "name": "python3"
  },
  "language_info": {
   "codemirror_mode": {
    "name": "ipython",
    "version": 3
   },
   "file_extension": ".py",
   "mimetype": "text/x-python",
   "name": "python",
   "nbconvert_exporter": "python",
   "pygments_lexer": "ipython3",
   "version": "3.9.5"
  }
 },
 "nbformat": 4,
 "nbformat_minor": 5
}
